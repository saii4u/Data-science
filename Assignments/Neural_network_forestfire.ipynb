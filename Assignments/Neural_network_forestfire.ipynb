{
 "cells": [
  {
   "cell_type": "code",
   "execution_count": 3,
   "id": "7518af16",
   "metadata": {
    "ExecuteTime": {
     "end_time": "2023-07-16T17:04:50.403643Z",
     "start_time": "2023-07-16T17:04:50.393633Z"
    }
   },
   "outputs": [],
   "source": [
    "# Importing Libraries\n",
    "import pandas as pd\n",
    "import numpy as np\n",
    "import matplotlib.pyplot as plt\n",
    "import seaborn as sns\n",
    "\n",
    "from sklearn.preprocessing import StandardScaler, LabelEncoder\n",
    "from sklearn.metrics import mean_squared_error\n",
    "from sklearn.model_selection import GridSearchCV, KFold, cross_val_score, train_test_split\n",
    "\n",
    "\n",
    "from keras.optimizers import Adam\n",
    "from tensorflow.keras import layers\n",
    "from tensorflow import keras\n",
    "from keras.models import Sequential\n",
    "from keras.layers import Dense\n",
    "from keras.layers import Dropout\n",
    "\n",
    "from sklearn.feature_selection import SelectKBest\n",
    "from sklearn.feature_selection import mutual_info_regression "
   ]
  },
  {
   "cell_type": "code",
   "execution_count": 4,
   "id": "b39d09e0",
   "metadata": {
    "ExecuteTime": {
     "end_time": "2023-07-16T17:05:17.375038Z",
     "start_time": "2023-07-16T17:05:17.333531Z"
    }
   },
   "outputs": [
    {
     "data": {
      "text/html": [
       "<div>\n",
       "<style scoped>\n",
       "    .dataframe tbody tr th:only-of-type {\n",
       "        vertical-align: middle;\n",
       "    }\n",
       "\n",
       "    .dataframe tbody tr th {\n",
       "        vertical-align: top;\n",
       "    }\n",
       "\n",
       "    .dataframe thead th {\n",
       "        text-align: right;\n",
       "    }\n",
       "</style>\n",
       "<table border=\"1\" class=\"dataframe\">\n",
       "  <thead>\n",
       "    <tr style=\"text-align: right;\">\n",
       "      <th></th>\n",
       "      <th>month</th>\n",
       "      <th>day</th>\n",
       "      <th>FFMC</th>\n",
       "      <th>DMC</th>\n",
       "      <th>DC</th>\n",
       "      <th>ISI</th>\n",
       "      <th>temp</th>\n",
       "      <th>RH</th>\n",
       "      <th>wind</th>\n",
       "      <th>rain</th>\n",
       "      <th>area</th>\n",
       "      <th>dayfri</th>\n",
       "      <th>daymon</th>\n",
       "      <th>daysat</th>\n",
       "      <th>daysun</th>\n",
       "      <th>daythu</th>\n",
       "      <th>daytue</th>\n",
       "      <th>daywed</th>\n",
       "      <th>monthapr</th>\n",
       "      <th>monthaug</th>\n",
       "      <th>monthdec</th>\n",
       "      <th>monthfeb</th>\n",
       "      <th>monthjan</th>\n",
       "      <th>monthjul</th>\n",
       "      <th>monthjun</th>\n",
       "      <th>monthmar</th>\n",
       "      <th>monthmay</th>\n",
       "      <th>monthnov</th>\n",
       "      <th>monthoct</th>\n",
       "      <th>monthsep</th>\n",
       "      <th>size_category</th>\n",
       "    </tr>\n",
       "  </thead>\n",
       "  <tbody>\n",
       "    <tr>\n",
       "      <th>0</th>\n",
       "      <td>mar</td>\n",
       "      <td>fri</td>\n",
       "      <td>86.2</td>\n",
       "      <td>26.2</td>\n",
       "      <td>94.3</td>\n",
       "      <td>5.1</td>\n",
       "      <td>8.2</td>\n",
       "      <td>51</td>\n",
       "      <td>6.7</td>\n",
       "      <td>0.0</td>\n",
       "      <td>0.0</td>\n",
       "      <td>1</td>\n",
       "      <td>0</td>\n",
       "      <td>0</td>\n",
       "      <td>0</td>\n",
       "      <td>0</td>\n",
       "      <td>0</td>\n",
       "      <td>0</td>\n",
       "      <td>0</td>\n",
       "      <td>0</td>\n",
       "      <td>0</td>\n",
       "      <td>0</td>\n",
       "      <td>0</td>\n",
       "      <td>0</td>\n",
       "      <td>0</td>\n",
       "      <td>1</td>\n",
       "      <td>0</td>\n",
       "      <td>0</td>\n",
       "      <td>0</td>\n",
       "      <td>0</td>\n",
       "      <td>small</td>\n",
       "    </tr>\n",
       "    <tr>\n",
       "      <th>1</th>\n",
       "      <td>oct</td>\n",
       "      <td>tue</td>\n",
       "      <td>90.6</td>\n",
       "      <td>35.4</td>\n",
       "      <td>669.1</td>\n",
       "      <td>6.7</td>\n",
       "      <td>18.0</td>\n",
       "      <td>33</td>\n",
       "      <td>0.9</td>\n",
       "      <td>0.0</td>\n",
       "      <td>0.0</td>\n",
       "      <td>0</td>\n",
       "      <td>0</td>\n",
       "      <td>0</td>\n",
       "      <td>0</td>\n",
       "      <td>0</td>\n",
       "      <td>1</td>\n",
       "      <td>0</td>\n",
       "      <td>0</td>\n",
       "      <td>0</td>\n",
       "      <td>0</td>\n",
       "      <td>0</td>\n",
       "      <td>0</td>\n",
       "      <td>0</td>\n",
       "      <td>0</td>\n",
       "      <td>0</td>\n",
       "      <td>0</td>\n",
       "      <td>0</td>\n",
       "      <td>1</td>\n",
       "      <td>0</td>\n",
       "      <td>small</td>\n",
       "    </tr>\n",
       "    <tr>\n",
       "      <th>2</th>\n",
       "      <td>oct</td>\n",
       "      <td>sat</td>\n",
       "      <td>90.6</td>\n",
       "      <td>43.7</td>\n",
       "      <td>686.9</td>\n",
       "      <td>6.7</td>\n",
       "      <td>14.6</td>\n",
       "      <td>33</td>\n",
       "      <td>1.3</td>\n",
       "      <td>0.0</td>\n",
       "      <td>0.0</td>\n",
       "      <td>0</td>\n",
       "      <td>0</td>\n",
       "      <td>1</td>\n",
       "      <td>0</td>\n",
       "      <td>0</td>\n",
       "      <td>0</td>\n",
       "      <td>0</td>\n",
       "      <td>0</td>\n",
       "      <td>0</td>\n",
       "      <td>0</td>\n",
       "      <td>0</td>\n",
       "      <td>0</td>\n",
       "      <td>0</td>\n",
       "      <td>0</td>\n",
       "      <td>0</td>\n",
       "      <td>0</td>\n",
       "      <td>0</td>\n",
       "      <td>1</td>\n",
       "      <td>0</td>\n",
       "      <td>small</td>\n",
       "    </tr>\n",
       "    <tr>\n",
       "      <th>3</th>\n",
       "      <td>mar</td>\n",
       "      <td>fri</td>\n",
       "      <td>91.7</td>\n",
       "      <td>33.3</td>\n",
       "      <td>77.5</td>\n",
       "      <td>9.0</td>\n",
       "      <td>8.3</td>\n",
       "      <td>97</td>\n",
       "      <td>4.0</td>\n",
       "      <td>0.2</td>\n",
       "      <td>0.0</td>\n",
       "      <td>1</td>\n",
       "      <td>0</td>\n",
       "      <td>0</td>\n",
       "      <td>0</td>\n",
       "      <td>0</td>\n",
       "      <td>0</td>\n",
       "      <td>0</td>\n",
       "      <td>0</td>\n",
       "      <td>0</td>\n",
       "      <td>0</td>\n",
       "      <td>0</td>\n",
       "      <td>0</td>\n",
       "      <td>0</td>\n",
       "      <td>0</td>\n",
       "      <td>1</td>\n",
       "      <td>0</td>\n",
       "      <td>0</td>\n",
       "      <td>0</td>\n",
       "      <td>0</td>\n",
       "      <td>small</td>\n",
       "    </tr>\n",
       "    <tr>\n",
       "      <th>4</th>\n",
       "      <td>mar</td>\n",
       "      <td>sun</td>\n",
       "      <td>89.3</td>\n",
       "      <td>51.3</td>\n",
       "      <td>102.2</td>\n",
       "      <td>9.6</td>\n",
       "      <td>11.4</td>\n",
       "      <td>99</td>\n",
       "      <td>1.8</td>\n",
       "      <td>0.0</td>\n",
       "      <td>0.0</td>\n",
       "      <td>0</td>\n",
       "      <td>0</td>\n",
       "      <td>0</td>\n",
       "      <td>1</td>\n",
       "      <td>0</td>\n",
       "      <td>0</td>\n",
       "      <td>0</td>\n",
       "      <td>0</td>\n",
       "      <td>0</td>\n",
       "      <td>0</td>\n",
       "      <td>0</td>\n",
       "      <td>0</td>\n",
       "      <td>0</td>\n",
       "      <td>0</td>\n",
       "      <td>1</td>\n",
       "      <td>0</td>\n",
       "      <td>0</td>\n",
       "      <td>0</td>\n",
       "      <td>0</td>\n",
       "      <td>small</td>\n",
       "    </tr>\n",
       "  </tbody>\n",
       "</table>\n",
       "</div>"
      ],
      "text/plain": [
       "  month  day  FFMC   DMC     DC  ISI  temp  RH  wind  rain  area  dayfri  \\\n",
       "0   mar  fri  86.2  26.2   94.3  5.1   8.2  51   6.7   0.0   0.0       1   \n",
       "1   oct  tue  90.6  35.4  669.1  6.7  18.0  33   0.9   0.0   0.0       0   \n",
       "2   oct  sat  90.6  43.7  686.9  6.7  14.6  33   1.3   0.0   0.0       0   \n",
       "3   mar  fri  91.7  33.3   77.5  9.0   8.3  97   4.0   0.2   0.0       1   \n",
       "4   mar  sun  89.3  51.3  102.2  9.6  11.4  99   1.8   0.0   0.0       0   \n",
       "\n",
       "   daymon  daysat  daysun  daythu  daytue  daywed  monthapr  monthaug  \\\n",
       "0       0       0       0       0       0       0         0         0   \n",
       "1       0       0       0       0       1       0         0         0   \n",
       "2       0       1       0       0       0       0         0         0   \n",
       "3       0       0       0       0       0       0         0         0   \n",
       "4       0       0       1       0       0       0         0         0   \n",
       "\n",
       "   monthdec  monthfeb  monthjan  monthjul  monthjun  monthmar  monthmay  \\\n",
       "0         0         0         0         0         0         1         0   \n",
       "1         0         0         0         0         0         0         0   \n",
       "2         0         0         0         0         0         0         0   \n",
       "3         0         0         0         0         0         1         0   \n",
       "4         0         0         0         0         0         1         0   \n",
       "\n",
       "   monthnov  monthoct  monthsep size_category  \n",
       "0         0         0         0         small  \n",
       "1         0         1         0         small  \n",
       "2         0         1         0         small  \n",
       "3         0         0         0         small  \n",
       "4         0         0         0         small  "
      ]
     },
     "execution_count": 4,
     "metadata": {},
     "output_type": "execute_result"
    }
   ],
   "source": [
    "#Loading data\n",
    "data = pd.read_csv(r\"C:\\Users\\91739\\Downloads\\forestfires.csv\")\n",
    "pd.pandas.set_option('display.max_columns',None)\n",
    "data.head() "
   ]
  },
  {
   "cell_type": "code",
   "execution_count": 5,
   "id": "8ef9e71d",
   "metadata": {
    "ExecuteTime": {
     "end_time": "2023-07-16T17:05:25.530317Z",
     "start_time": "2023-07-16T17:05:25.502194Z"
    }
   },
   "outputs": [
    {
     "data": {
      "text/html": [
       "<div>\n",
       "<style scoped>\n",
       "    .dataframe tbody tr th:only-of-type {\n",
       "        vertical-align: middle;\n",
       "    }\n",
       "\n",
       "    .dataframe tbody tr th {\n",
       "        vertical-align: top;\n",
       "    }\n",
       "\n",
       "    .dataframe thead th {\n",
       "        text-align: right;\n",
       "    }\n",
       "</style>\n",
       "<table border=\"1\" class=\"dataframe\">\n",
       "  <thead>\n",
       "    <tr style=\"text-align: right;\">\n",
       "      <th></th>\n",
       "      <th>month</th>\n",
       "      <th>day</th>\n",
       "      <th>FFMC</th>\n",
       "      <th>DMC</th>\n",
       "      <th>DC</th>\n",
       "      <th>ISI</th>\n",
       "      <th>temp</th>\n",
       "      <th>RH</th>\n",
       "      <th>wind</th>\n",
       "      <th>rain</th>\n",
       "      <th>area</th>\n",
       "      <th>size_category</th>\n",
       "    </tr>\n",
       "  </thead>\n",
       "  <tbody>\n",
       "    <tr>\n",
       "      <th>0</th>\n",
       "      <td>mar</td>\n",
       "      <td>fri</td>\n",
       "      <td>86.2</td>\n",
       "      <td>26.2</td>\n",
       "      <td>94.3</td>\n",
       "      <td>5.1</td>\n",
       "      <td>8.2</td>\n",
       "      <td>51</td>\n",
       "      <td>6.7</td>\n",
       "      <td>0.0</td>\n",
       "      <td>0.0</td>\n",
       "      <td>small</td>\n",
       "    </tr>\n",
       "    <tr>\n",
       "      <th>1</th>\n",
       "      <td>oct</td>\n",
       "      <td>tue</td>\n",
       "      <td>90.6</td>\n",
       "      <td>35.4</td>\n",
       "      <td>669.1</td>\n",
       "      <td>6.7</td>\n",
       "      <td>18.0</td>\n",
       "      <td>33</td>\n",
       "      <td>0.9</td>\n",
       "      <td>0.0</td>\n",
       "      <td>0.0</td>\n",
       "      <td>small</td>\n",
       "    </tr>\n",
       "    <tr>\n",
       "      <th>2</th>\n",
       "      <td>oct</td>\n",
       "      <td>sat</td>\n",
       "      <td>90.6</td>\n",
       "      <td>43.7</td>\n",
       "      <td>686.9</td>\n",
       "      <td>6.7</td>\n",
       "      <td>14.6</td>\n",
       "      <td>33</td>\n",
       "      <td>1.3</td>\n",
       "      <td>0.0</td>\n",
       "      <td>0.0</td>\n",
       "      <td>small</td>\n",
       "    </tr>\n",
       "    <tr>\n",
       "      <th>3</th>\n",
       "      <td>mar</td>\n",
       "      <td>fri</td>\n",
       "      <td>91.7</td>\n",
       "      <td>33.3</td>\n",
       "      <td>77.5</td>\n",
       "      <td>9.0</td>\n",
       "      <td>8.3</td>\n",
       "      <td>97</td>\n",
       "      <td>4.0</td>\n",
       "      <td>0.2</td>\n",
       "      <td>0.0</td>\n",
       "      <td>small</td>\n",
       "    </tr>\n",
       "    <tr>\n",
       "      <th>4</th>\n",
       "      <td>mar</td>\n",
       "      <td>sun</td>\n",
       "      <td>89.3</td>\n",
       "      <td>51.3</td>\n",
       "      <td>102.2</td>\n",
       "      <td>9.6</td>\n",
       "      <td>11.4</td>\n",
       "      <td>99</td>\n",
       "      <td>1.8</td>\n",
       "      <td>0.0</td>\n",
       "      <td>0.0</td>\n",
       "      <td>small</td>\n",
       "    </tr>\n",
       "  </tbody>\n",
       "</table>\n",
       "</div>"
      ],
      "text/plain": [
       "  month  day  FFMC   DMC     DC  ISI  temp  RH  wind  rain  area size_category\n",
       "0   mar  fri  86.2  26.2   94.3  5.1   8.2  51   6.7   0.0   0.0         small\n",
       "1   oct  tue  90.6  35.4  669.1  6.7  18.0  33   0.9   0.0   0.0         small\n",
       "2   oct  sat  90.6  43.7  686.9  6.7  14.6  33   1.3   0.0   0.0         small\n",
       "3   mar  fri  91.7  33.3   77.5  9.0   8.3  97   4.0   0.2   0.0         small\n",
       "4   mar  sun  89.3  51.3  102.2  9.6  11.4  99   1.8   0.0   0.0         small"
      ]
     },
     "execution_count": 5,
     "metadata": {},
     "output_type": "execute_result"
    }
   ],
   "source": [
    "# dropping encoded columns\n",
    "raw_data = data[['month', 'day','FFMC', 'DMC', 'DC', 'ISI', 'temp', 'RH', 'wind', 'rain', 'area', 'size_category' ]]\n",
    "raw_data.head()   "
   ]
  },
  {
   "cell_type": "code",
   "execution_count": 6,
   "id": "b801dfe2",
   "metadata": {
    "ExecuteTime": {
     "end_time": "2023-07-16T17:05:30.286237Z",
     "start_time": "2023-07-16T17:05:30.269246Z"
    }
   },
   "outputs": [
    {
     "name": "stdout",
     "output_type": "stream",
     "text": [
      "(517, 31)\n",
      "(517, 12)\n"
     ]
    }
   ],
   "source": [
    "print(data.shape)\n",
    "print(raw_data.shape)"
   ]
  },
  {
   "cell_type": "code",
   "execution_count": 7,
   "id": "41151ebf",
   "metadata": {
    "ExecuteTime": {
     "end_time": "2023-07-16T17:05:34.889218Z",
     "start_time": "2023-07-16T17:05:34.881129Z"
    }
   },
   "outputs": [
    {
     "data": {
      "text/plain": [
       "0"
      ]
     },
     "execution_count": 7,
     "metadata": {},
     "output_type": "execute_result"
    }
   ],
   "source": [
    "raw_data.isna().sum().sum()"
   ]
  },
  {
   "cell_type": "markdown",
   "id": "16bdbf0b",
   "metadata": {},
   "source": [
    "Descriptive Statistics"
   ]
  },
  {
   "cell_type": "code",
   "execution_count": 8,
   "id": "0ae407e2",
   "metadata": {
    "ExecuteTime": {
     "end_time": "2023-07-16T17:05:51.379844Z",
     "start_time": "2023-07-16T17:05:51.358791Z"
    }
   },
   "outputs": [
    {
     "data": {
      "text/plain": [
       "0"
      ]
     },
     "execution_count": 8,
     "metadata": {},
     "output_type": "execute_result"
    }
   ],
   "source": [
    "raw_data.isna().sum().sum() "
   ]
  },
  {
   "cell_type": "code",
   "execution_count": 9,
   "id": "f3805cdc",
   "metadata": {
    "ExecuteTime": {
     "end_time": "2023-07-16T17:05:55.789787Z",
     "start_time": "2023-07-16T17:05:55.761669Z"
    }
   },
   "outputs": [
    {
     "data": {
      "text/html": [
       "<div>\n",
       "<style scoped>\n",
       "    .dataframe tbody tr th:only-of-type {\n",
       "        vertical-align: middle;\n",
       "    }\n",
       "\n",
       "    .dataframe tbody tr th {\n",
       "        vertical-align: top;\n",
       "    }\n",
       "\n",
       "    .dataframe thead th {\n",
       "        text-align: right;\n",
       "    }\n",
       "</style>\n",
       "<table border=\"1\" class=\"dataframe\">\n",
       "  <thead>\n",
       "    <tr style=\"text-align: right;\">\n",
       "      <th></th>\n",
       "      <th>FFMC</th>\n",
       "      <th>DMC</th>\n",
       "      <th>DC</th>\n",
       "      <th>ISI</th>\n",
       "      <th>temp</th>\n",
       "      <th>RH</th>\n",
       "      <th>wind</th>\n",
       "      <th>rain</th>\n",
       "      <th>area</th>\n",
       "    </tr>\n",
       "  </thead>\n",
       "  <tbody>\n",
       "    <tr>\n",
       "      <th>count</th>\n",
       "      <td>517.000000</td>\n",
       "      <td>517.000000</td>\n",
       "      <td>517.000000</td>\n",
       "      <td>517.000000</td>\n",
       "      <td>517.000000</td>\n",
       "      <td>517.000000</td>\n",
       "      <td>517.000000</td>\n",
       "      <td>517.000000</td>\n",
       "      <td>517.000000</td>\n",
       "    </tr>\n",
       "    <tr>\n",
       "      <th>mean</th>\n",
       "      <td>90.644681</td>\n",
       "      <td>110.872340</td>\n",
       "      <td>547.940039</td>\n",
       "      <td>9.021663</td>\n",
       "      <td>18.889168</td>\n",
       "      <td>44.288201</td>\n",
       "      <td>4.017602</td>\n",
       "      <td>0.021663</td>\n",
       "      <td>12.847292</td>\n",
       "    </tr>\n",
       "    <tr>\n",
       "      <th>std</th>\n",
       "      <td>5.520111</td>\n",
       "      <td>64.046482</td>\n",
       "      <td>248.066192</td>\n",
       "      <td>4.559477</td>\n",
       "      <td>5.806625</td>\n",
       "      <td>16.317469</td>\n",
       "      <td>1.791653</td>\n",
       "      <td>0.295959</td>\n",
       "      <td>63.655818</td>\n",
       "    </tr>\n",
       "    <tr>\n",
       "      <th>min</th>\n",
       "      <td>18.700000</td>\n",
       "      <td>1.100000</td>\n",
       "      <td>7.900000</td>\n",
       "      <td>0.000000</td>\n",
       "      <td>2.200000</td>\n",
       "      <td>15.000000</td>\n",
       "      <td>0.400000</td>\n",
       "      <td>0.000000</td>\n",
       "      <td>0.000000</td>\n",
       "    </tr>\n",
       "    <tr>\n",
       "      <th>25%</th>\n",
       "      <td>90.200000</td>\n",
       "      <td>68.600000</td>\n",
       "      <td>437.700000</td>\n",
       "      <td>6.500000</td>\n",
       "      <td>15.500000</td>\n",
       "      <td>33.000000</td>\n",
       "      <td>2.700000</td>\n",
       "      <td>0.000000</td>\n",
       "      <td>0.000000</td>\n",
       "    </tr>\n",
       "    <tr>\n",
       "      <th>50%</th>\n",
       "      <td>91.600000</td>\n",
       "      <td>108.300000</td>\n",
       "      <td>664.200000</td>\n",
       "      <td>8.400000</td>\n",
       "      <td>19.300000</td>\n",
       "      <td>42.000000</td>\n",
       "      <td>4.000000</td>\n",
       "      <td>0.000000</td>\n",
       "      <td>0.520000</td>\n",
       "    </tr>\n",
       "    <tr>\n",
       "      <th>75%</th>\n",
       "      <td>92.900000</td>\n",
       "      <td>142.400000</td>\n",
       "      <td>713.900000</td>\n",
       "      <td>10.800000</td>\n",
       "      <td>22.800000</td>\n",
       "      <td>53.000000</td>\n",
       "      <td>4.900000</td>\n",
       "      <td>0.000000</td>\n",
       "      <td>6.570000</td>\n",
       "    </tr>\n",
       "    <tr>\n",
       "      <th>max</th>\n",
       "      <td>96.200000</td>\n",
       "      <td>291.300000</td>\n",
       "      <td>860.600000</td>\n",
       "      <td>56.100000</td>\n",
       "      <td>33.300000</td>\n",
       "      <td>100.000000</td>\n",
       "      <td>9.400000</td>\n",
       "      <td>6.400000</td>\n",
       "      <td>1090.840000</td>\n",
       "    </tr>\n",
       "  </tbody>\n",
       "</table>\n",
       "</div>"
      ],
      "text/plain": [
       "             FFMC         DMC          DC         ISI        temp          RH  \\\n",
       "count  517.000000  517.000000  517.000000  517.000000  517.000000  517.000000   \n",
       "mean    90.644681  110.872340  547.940039    9.021663   18.889168   44.288201   \n",
       "std      5.520111   64.046482  248.066192    4.559477    5.806625   16.317469   \n",
       "min     18.700000    1.100000    7.900000    0.000000    2.200000   15.000000   \n",
       "25%     90.200000   68.600000  437.700000    6.500000   15.500000   33.000000   \n",
       "50%     91.600000  108.300000  664.200000    8.400000   19.300000   42.000000   \n",
       "75%     92.900000  142.400000  713.900000   10.800000   22.800000   53.000000   \n",
       "max     96.200000  291.300000  860.600000   56.100000   33.300000  100.000000   \n",
       "\n",
       "             wind        rain         area  \n",
       "count  517.000000  517.000000   517.000000  \n",
       "mean     4.017602    0.021663    12.847292  \n",
       "std      1.791653    0.295959    63.655818  \n",
       "min      0.400000    0.000000     0.000000  \n",
       "25%      2.700000    0.000000     0.000000  \n",
       "50%      4.000000    0.000000     0.520000  \n",
       "75%      4.900000    0.000000     6.570000  \n",
       "max      9.400000    6.400000  1090.840000  "
      ]
     },
     "execution_count": 9,
     "metadata": {},
     "output_type": "execute_result"
    }
   ],
   "source": [
    "raw_data.describe()"
   ]
  },
  {
   "cell_type": "code",
   "execution_count": 10,
   "id": "a83fd6a6",
   "metadata": {
    "ExecuteTime": {
     "end_time": "2023-07-16T17:06:02.204074Z",
     "start_time": "2023-07-16T17:06:02.189558Z"
    }
   },
   "outputs": [
    {
     "name": "stdout",
     "output_type": "stream",
     "text": [
      "<class 'pandas.core.frame.DataFrame'>\n",
      "RangeIndex: 517 entries, 0 to 516\n",
      "Data columns (total 12 columns):\n",
      " #   Column         Non-Null Count  Dtype  \n",
      "---  ------         --------------  -----  \n",
      " 0   month          517 non-null    object \n",
      " 1   day            517 non-null    object \n",
      " 2   FFMC           517 non-null    float64\n",
      " 3   DMC            517 non-null    float64\n",
      " 4   DC             517 non-null    float64\n",
      " 5   ISI            517 non-null    float64\n",
      " 6   temp           517 non-null    float64\n",
      " 7   RH             517 non-null    int64  \n",
      " 8   wind           517 non-null    float64\n",
      " 9   rain           517 non-null    float64\n",
      " 10  area           517 non-null    float64\n",
      " 11  size_category  517 non-null    object \n",
      "dtypes: float64(8), int64(1), object(3)\n",
      "memory usage: 48.6+ KB\n"
     ]
    }
   ],
   "source": [
    "raw_data.info()"
   ]
  },
  {
   "cell_type": "code",
   "execution_count": 11,
   "id": "14b4b839",
   "metadata": {
    "ExecuteTime": {
     "end_time": "2023-07-16T17:06:07.951293Z",
     "start_time": "2023-07-16T17:06:07.945241Z"
    }
   },
   "outputs": [
    {
     "name": "stdout",
     "output_type": "stream",
     "text": [
      "numeric features: ['FFMC', 'DMC', 'DC', 'ISI', 'temp', 'RH', 'wind', 'rain', 'area'] \n",
      "\n"
     ]
    }
   ],
   "source": [
    "#Numeric_variables\n",
    "\n",
    "numeric_features = [feature for feature in raw_data.columns if raw_data[feature].dtypes != 'O']\n",
    "print('numeric features:', numeric_features, '\\n') "
   ]
  },
  {
   "cell_type": "code",
   "execution_count": 12,
   "id": "d68eff75",
   "metadata": {
    "ExecuteTime": {
     "end_time": "2023-07-16T17:06:13.355734Z",
     "start_time": "2023-07-16T17:06:13.349736Z"
    }
   },
   "outputs": [
    {
     "name": "stdout",
     "output_type": "stream",
     "text": [
      "categorical_features: ['month', 'day', 'size_category']\n"
     ]
    }
   ],
   "source": [
    "#categorical_variables\n",
    "\n",
    "categorical_features = [feature for feature in raw_data.columns if raw_data[feature].dtypes == 'O']\n",
    "print('categorical_features:', categorical_features) "
   ]
  },
  {
   "cell_type": "code",
   "execution_count": 13,
   "id": "cf218efc",
   "metadata": {
    "ExecuteTime": {
     "end_time": "2023-07-16T17:06:18.980594Z",
     "start_time": "2023-07-16T17:06:18.968601Z"
    }
   },
   "outputs": [
    {
     "data": {
      "text/plain": [
       "area    1.000000\n",
       "temp    0.097844\n",
       "DMC     0.072994\n",
       "DC      0.049383\n",
       "FFMC    0.040122\n",
       "wind    0.012317\n",
       "ISI     0.008258\n",
       "rain   -0.007366\n",
       "RH     -0.075519\n",
       "Name: area, dtype: float64"
      ]
     },
     "execution_count": 13,
     "metadata": {},
     "output_type": "execute_result"
    }
   ],
   "source": [
    "#Corrrelation\n",
    "\n",
    "raw_data.corr()['area'].sort_values(ascending=False) "
   ]
  },
  {
   "cell_type": "markdown",
   "id": "19383066",
   "metadata": {},
   "source": [
    "Visualisation"
   ]
  },
  {
   "cell_type": "code",
   "execution_count": 14,
   "id": "c351c436",
   "metadata": {
    "ExecuteTime": {
     "end_time": "2023-07-16T17:06:59.760848Z",
     "start_time": "2023-07-16T17:06:38.269580Z"
    }
   },
   "outputs": [
    {
     "name": "stdout",
     "output_type": "stream",
     "text": [
      "Collecting matplotlib==3.1.3\n",
      "  Downloading matplotlib-3.1.3.tar.gz (40.9 MB)\n",
      "     ---------------------------------------- 40.9/40.9 MB 8.0 MB/s eta 0:00:00\n",
      "  Preparing metadata (setup.py): started\n",
      "  Preparing metadata (setup.py): finished with status 'done'\n",
      "Requirement already satisfied: cycler>=0.10 in c:\\users\\91739\\anaconda3\\lib\\site-packages (from matplotlib==3.1.3) (0.11.0)\n",
      "Requirement already satisfied: kiwisolver>=1.0.1 in c:\\users\\91739\\anaconda3\\lib\\site-packages (from matplotlib==3.1.3) (1.3.2)\n",
      "Requirement already satisfied: pyparsing!=2.0.4,!=2.1.2,!=2.1.6,>=2.0.1 in c:\\users\\91739\\anaconda3\\lib\\site-packages (from matplotlib==3.1.3) (3.0.4)\n",
      "Requirement already satisfied: python-dateutil>=2.1 in c:\\users\\91739\\anaconda3\\lib\\site-packages (from matplotlib==3.1.3) (2.8.2)\n",
      "Requirement already satisfied: numpy>=1.11 in c:\\users\\91739\\anaconda3\\lib\\site-packages (from matplotlib==3.1.3) (1.25.1)\n",
      "Requirement already satisfied: six>=1.5 in c:\\users\\91739\\anaconda3\\lib\\site-packages (from python-dateutil>=2.1->matplotlib==3.1.3) (1.16.0)\n",
      "Building wheels for collected packages: matplotlib\n",
      "  Building wheel for matplotlib (setup.py): started\n",
      "  Building wheel for matplotlib (setup.py): finished with status 'error'\n",
      "  Running setup.py clean for matplotlib\n",
      "Failed to build matplotlib\n",
      "Note: you may need to restart the kernel to use updated packages.\n"
     ]
    },
    {
     "name": "stderr",
     "output_type": "stream",
     "text": [
      "  error: subprocess-exited-with-error\n",
      "  \n",
      "  python setup.py bdist_wheel did not run successfully.\n",
      "  exit code: 1\n",
      "  \n",
      "  [520 lines of output]\n",
      "  ================================================================================\n",
      "  Edit setup.cfg to change the build options\n",
      "  \n",
      "  BUILDING MATPLOTLIB\n",
      "    matplotlib: yes [3.1.3]\n",
      "        python: yes [3.9.12 (main, Apr  4 2022, 05:22:27) [MSC v.1916 64 bit\n",
      "                    (AMD64)]]\n",
      "      platform: yes [win32]\n",
      "  \n",
      "  OPTIONAL SUBPACKAGES\n",
      "   sample_data: yes [installing]\n",
      "         tests: no  [skipping due to configuration]\n",
      "  \n",
      "  OPTIONAL BACKEND EXTENSIONS\n",
      "           agg: yes [installing]\n",
      "         tkagg: yes [installing; run-time loading from Python Tcl/Tk]\n",
      "        macosx: no  [Mac OS-X only]\n",
      "  \n",
      "  OPTIONAL PACKAGE DATA\n",
      "          dlls: no  [skipping due to configuration]\n",
      "  \n",
      "  C:\\Users\\91739\\anaconda3\\lib\\site-packages\\setuptools\\__init__.py:84: _DeprecatedInstaller: setuptools.installer and fetch_build_eggs are deprecated.\n",
      "  !!\n",
      "  \n",
      "          ********************************************************************************\n",
      "          Requirements should be satisfied by a PEP 517 installer.\n",
      "          If you are using pip, you can try `pip install --use-pep517`.\n",
      "          ********************************************************************************\n",
      "  \n",
      "  !!\n",
      "    dist.fetch_build_eggs(dist.setup_requires)\n",
      "  C:\\Users\\91739\\anaconda3\\lib\\site-packages\\setuptools\\dist.py:945: SetuptoolsDeprecationWarning: The namespace_packages parameter is deprecated.\n",
      "  !!\n",
      "  \n",
      "          ********************************************************************************\n",
      "          Please replace its usage with implicit namespaces (PEP 420).\n",
      "  \n",
      "          See https://setuptools.pypa.io/en/latest/references/keywords.html#keyword-namespace-packages for details.\n",
      "          ********************************************************************************\n",
      "  \n",
      "  !!\n",
      "    ep.load()(self, ep.name, value)\n",
      "  running bdist_wheel\n",
      "  running build\n",
      "  running build_py\n",
      "  creating build\n",
      "  creating build\\lib.win-amd64-cpython-39\n",
      "  copying lib\\pylab.py -> build\\lib.win-amd64-cpython-39\n",
      "  creating build\\lib.win-amd64-cpython-39\\matplotlib\n",
      "  copying lib\\matplotlib\\afm.py -> build\\lib.win-amd64-cpython-39\\matplotlib\n",
      "  copying lib\\matplotlib\\animation.py -> build\\lib.win-amd64-cpython-39\\matplotlib\n",
      "  copying lib\\matplotlib\\artist.py -> build\\lib.win-amd64-cpython-39\\matplotlib\n",
      "  copying lib\\matplotlib\\axis.py -> build\\lib.win-amd64-cpython-39\\matplotlib\n",
      "  copying lib\\matplotlib\\backend_bases.py -> build\\lib.win-amd64-cpython-39\\matplotlib\n",
      "  copying lib\\matplotlib\\backend_managers.py -> build\\lib.win-amd64-cpython-39\\matplotlib\n",
      "  copying lib\\matplotlib\\backend_tools.py -> build\\lib.win-amd64-cpython-39\\matplotlib\n",
      "  copying lib\\matplotlib\\bezier.py -> build\\lib.win-amd64-cpython-39\\matplotlib\n",
      "  copying lib\\matplotlib\\blocking_input.py -> build\\lib.win-amd64-cpython-39\\matplotlib\n",
      "  copying lib\\matplotlib\\category.py -> build\\lib.win-amd64-cpython-39\\matplotlib\n",
      "  copying lib\\matplotlib\\cm.py -> build\\lib.win-amd64-cpython-39\\matplotlib\n",
      "  copying lib\\matplotlib\\collections.py -> build\\lib.win-amd64-cpython-39\\matplotlib\n",
      "  copying lib\\matplotlib\\colorbar.py -> build\\lib.win-amd64-cpython-39\\matplotlib\n",
      "  copying lib\\matplotlib\\colors.py -> build\\lib.win-amd64-cpython-39\\matplotlib\n",
      "  copying lib\\matplotlib\\container.py -> build\\lib.win-amd64-cpython-39\\matplotlib\n",
      "  copying lib\\matplotlib\\contour.py -> build\\lib.win-amd64-cpython-39\\matplotlib\n",
      "  copying lib\\matplotlib\\dates.py -> build\\lib.win-amd64-cpython-39\\matplotlib\n",
      "  copying lib\\matplotlib\\docstring.py -> build\\lib.win-amd64-cpython-39\\matplotlib\n",
      "  copying lib\\matplotlib\\dviread.py -> build\\lib.win-amd64-cpython-39\\matplotlib\n",
      "  copying lib\\matplotlib\\figure.py -> build\\lib.win-amd64-cpython-39\\matplotlib\n",
      "  copying lib\\matplotlib\\fontconfig_pattern.py -> build\\lib.win-amd64-cpython-39\\matplotlib\n",
      "  copying lib\\matplotlib\\font_manager.py -> build\\lib.win-amd64-cpython-39\\matplotlib\n",
      "  copying lib\\matplotlib\\gridspec.py -> build\\lib.win-amd64-cpython-39\\matplotlib\n",
      "  copying lib\\matplotlib\\hatch.py -> build\\lib.win-amd64-cpython-39\\matplotlib\n",
      "  copying lib\\matplotlib\\image.py -> build\\lib.win-amd64-cpython-39\\matplotlib\n",
      "  copying lib\\matplotlib\\legend.py -> build\\lib.win-amd64-cpython-39\\matplotlib\n",
      "  copying lib\\matplotlib\\legend_handler.py -> build\\lib.win-amd64-cpython-39\\matplotlib\n",
      "  copying lib\\matplotlib\\lines.py -> build\\lib.win-amd64-cpython-39\\matplotlib\n",
      "  copying lib\\matplotlib\\markers.py -> build\\lib.win-amd64-cpython-39\\matplotlib\n",
      "  copying lib\\matplotlib\\mathtext.py -> build\\lib.win-amd64-cpython-39\\matplotlib\n",
      "  copying lib\\matplotlib\\mlab.py -> build\\lib.win-amd64-cpython-39\\matplotlib\n",
      "  copying lib\\matplotlib\\offsetbox.py -> build\\lib.win-amd64-cpython-39\\matplotlib\n",
      "  copying lib\\matplotlib\\patches.py -> build\\lib.win-amd64-cpython-39\\matplotlib\n",
      "  copying lib\\matplotlib\\path.py -> build\\lib.win-amd64-cpython-39\\matplotlib\n",
      "  copying lib\\matplotlib\\patheffects.py -> build\\lib.win-amd64-cpython-39\\matplotlib\n",
      "  copying lib\\matplotlib\\pylab.py -> build\\lib.win-amd64-cpython-39\\matplotlib\n",
      "  copying lib\\matplotlib\\pyplot.py -> build\\lib.win-amd64-cpython-39\\matplotlib\n",
      "  copying lib\\matplotlib\\quiver.py -> build\\lib.win-amd64-cpython-39\\matplotlib\n",
      "  copying lib\\matplotlib\\rcsetup.py -> build\\lib.win-amd64-cpython-39\\matplotlib\n",
      "  copying lib\\matplotlib\\sankey.py -> build\\lib.win-amd64-cpython-39\\matplotlib\n",
      "  copying lib\\matplotlib\\scale.py -> build\\lib.win-amd64-cpython-39\\matplotlib\n",
      "  copying lib\\matplotlib\\spines.py -> build\\lib.win-amd64-cpython-39\\matplotlib\n",
      "  copying lib\\matplotlib\\stackplot.py -> build\\lib.win-amd64-cpython-39\\matplotlib\n",
      "  copying lib\\matplotlib\\streamplot.py -> build\\lib.win-amd64-cpython-39\\matplotlib\n",
      "  copying lib\\matplotlib\\table.py -> build\\lib.win-amd64-cpython-39\\matplotlib\n",
      "  copying lib\\matplotlib\\texmanager.py -> build\\lib.win-amd64-cpython-39\\matplotlib\n",
      "  copying lib\\matplotlib\\text.py -> build\\lib.win-amd64-cpython-39\\matplotlib\n",
      "  copying lib\\matplotlib\\textpath.py -> build\\lib.win-amd64-cpython-39\\matplotlib\n",
      "  copying lib\\matplotlib\\ticker.py -> build\\lib.win-amd64-cpython-39\\matplotlib\n",
      "  copying lib\\matplotlib\\tight_bbox.py -> build\\lib.win-amd64-cpython-39\\matplotlib\n",
      "  copying lib\\matplotlib\\tight_layout.py -> build\\lib.win-amd64-cpython-39\\matplotlib\n",
      "  copying lib\\matplotlib\\transforms.py -> build\\lib.win-amd64-cpython-39\\matplotlib\n",
      "  copying lib\\matplotlib\\type1font.py -> build\\lib.win-amd64-cpython-39\\matplotlib\n",
      "  copying lib\\matplotlib\\units.py -> build\\lib.win-amd64-cpython-39\\matplotlib\n",
      "  copying lib\\matplotlib\\widgets.py -> build\\lib.win-amd64-cpython-39\\matplotlib\n",
      "  copying lib\\matplotlib\\_animation_data.py -> build\\lib.win-amd64-cpython-39\\matplotlib\n",
      "  copying lib\\matplotlib\\_cm.py -> build\\lib.win-amd64-cpython-39\\matplotlib\n",
      "  copying lib\\matplotlib\\_cm_listed.py -> build\\lib.win-amd64-cpython-39\\matplotlib\n",
      "  copying lib\\matplotlib\\_color_data.py -> build\\lib.win-amd64-cpython-39\\matplotlib\n",
      "  copying lib\\matplotlib\\_constrained_layout.py -> build\\lib.win-amd64-cpython-39\\matplotlib\n",
      "  copying lib\\matplotlib\\_layoutbox.py -> build\\lib.win-amd64-cpython-39\\matplotlib\n",
      "  copying lib\\matplotlib\\_mathtext_data.py -> build\\lib.win-amd64-cpython-39\\matplotlib\n",
      "  copying lib\\matplotlib\\_pylab_helpers.py -> build\\lib.win-amd64-cpython-39\\matplotlib\n",
      "  copying lib\\matplotlib\\_version.py -> build\\lib.win-amd64-cpython-39\\matplotlib\n",
      "  copying lib\\matplotlib\\__init__.py -> build\\lib.win-amd64-cpython-39\\matplotlib\n",
      "  creating build\\lib.win-amd64-cpython-39\\mpl_toolkits\n",
      "  copying lib\\mpl_toolkits\\__init__.py -> build\\lib.win-amd64-cpython-39\\mpl_toolkits\n",
      "  creating build\\lib.win-amd64-cpython-39\\matplotlib\\axes\n",
      "  copying lib\\matplotlib\\axes\\_axes.py -> build\\lib.win-amd64-cpython-39\\matplotlib\\axes\n",
      "  copying lib\\matplotlib\\axes\\_base.py -> build\\lib.win-amd64-cpython-39\\matplotlib\\axes\n",
      "  copying lib\\matplotlib\\axes\\_secondary_axes.py -> build\\lib.win-amd64-cpython-39\\matplotlib\\axes\n",
      "  copying lib\\matplotlib\\axes\\_subplots.py -> build\\lib.win-amd64-cpython-39\\matplotlib\\axes\n",
      "  copying lib\\matplotlib\\axes\\__init__.py -> build\\lib.win-amd64-cpython-39\\matplotlib\\axes\n",
      "  creating build\\lib.win-amd64-cpython-39\\matplotlib\\backends\n",
      "  copying lib\\matplotlib\\backends\\backend_agg.py -> build\\lib.win-amd64-cpython-39\\matplotlib\\backends\n",
      "  copying lib\\matplotlib\\backends\\backend_cairo.py -> build\\lib.win-amd64-cpython-39\\matplotlib\\backends\n",
      "  copying lib\\matplotlib\\backends\\backend_gtk3.py -> build\\lib.win-amd64-cpython-39\\matplotlib\\backends\n",
      "  copying lib\\matplotlib\\backends\\backend_gtk3agg.py -> build\\lib.win-amd64-cpython-39\\matplotlib\\backends\n",
      "  copying lib\\matplotlib\\backends\\backend_gtk3cairo.py -> build\\lib.win-amd64-cpython-39\\matplotlib\\backends\n",
      "  copying lib\\matplotlib\\backends\\backend_macosx.py -> build\\lib.win-amd64-cpython-39\\matplotlib\\backends\n",
      "  copying lib\\matplotlib\\backends\\backend_mixed.py -> build\\lib.win-amd64-cpython-39\\matplotlib\\backends\n",
      "  copying lib\\matplotlib\\backends\\backend_nbagg.py -> build\\lib.win-amd64-cpython-39\\matplotlib\\backends\n",
      "  copying lib\\matplotlib\\backends\\backend_pdf.py -> build\\lib.win-amd64-cpython-39\\matplotlib\\backends\n",
      "  copying lib\\matplotlib\\backends\\backend_pgf.py -> build\\lib.win-amd64-cpython-39\\matplotlib\\backends\n",
      "  copying lib\\matplotlib\\backends\\backend_ps.py -> build\\lib.win-amd64-cpython-39\\matplotlib\\backends\n",
      "  copying lib\\matplotlib\\backends\\backend_qt4.py -> build\\lib.win-amd64-cpython-39\\matplotlib\\backends\n",
      "  copying lib\\matplotlib\\backends\\backend_qt4agg.py -> build\\lib.win-amd64-cpython-39\\matplotlib\\backends\n",
      "  copying lib\\matplotlib\\backends\\backend_qt4cairo.py -> build\\lib.win-amd64-cpython-39\\matplotlib\\backends\n",
      "  copying lib\\matplotlib\\backends\\backend_qt5.py -> build\\lib.win-amd64-cpython-39\\matplotlib\\backends\n",
      "  copying lib\\matplotlib\\backends\\backend_qt5agg.py -> build\\lib.win-amd64-cpython-39\\matplotlib\\backends\n",
      "  copying lib\\matplotlib\\backends\\backend_qt5cairo.py -> build\\lib.win-amd64-cpython-39\\matplotlib\\backends\n",
      "  copying lib\\matplotlib\\backends\\backend_svg.py -> build\\lib.win-amd64-cpython-39\\matplotlib\\backends\n",
      "  copying lib\\matplotlib\\backends\\backend_template.py -> build\\lib.win-amd64-cpython-39\\matplotlib\\backends\n",
      "  copying lib\\matplotlib\\backends\\backend_tkagg.py -> build\\lib.win-amd64-cpython-39\\matplotlib\\backends\n",
      "  copying lib\\matplotlib\\backends\\backend_tkcairo.py -> build\\lib.win-amd64-cpython-39\\matplotlib\\backends\n",
      "  copying lib\\matplotlib\\backends\\backend_webagg.py -> build\\lib.win-amd64-cpython-39\\matplotlib\\backends\n",
      "  copying lib\\matplotlib\\backends\\backend_webagg_core.py -> build\\lib.win-amd64-cpython-39\\matplotlib\\backends\n",
      "  copying lib\\matplotlib\\backends\\backend_wx.py -> build\\lib.win-amd64-cpython-39\\matplotlib\\backends\n",
      "  copying lib\\matplotlib\\backends\\backend_wxagg.py -> build\\lib.win-amd64-cpython-39\\matplotlib\\backends\n",
      "  copying lib\\matplotlib\\backends\\backend_wxcairo.py -> build\\lib.win-amd64-cpython-39\\matplotlib\\backends\n",
      "  copying lib\\matplotlib\\backends\\qt_compat.py -> build\\lib.win-amd64-cpython-39\\matplotlib\\backends\n",
      "  copying lib\\matplotlib\\backends\\tkagg.py -> build\\lib.win-amd64-cpython-39\\matplotlib\\backends\n",
      "  copying lib\\matplotlib\\backends\\windowing.py -> build\\lib.win-amd64-cpython-39\\matplotlib\\backends\n",
      "  copying lib\\matplotlib\\backends\\wx_compat.py -> build\\lib.win-amd64-cpython-39\\matplotlib\\backends\n",
      "  copying lib\\matplotlib\\backends\\_backend_pdf_ps.py -> build\\lib.win-amd64-cpython-39\\matplotlib\\backends\n",
      "  copying lib\\matplotlib\\backends\\_backend_tk.py -> build\\lib.win-amd64-cpython-39\\matplotlib\\backends\n",
      "  copying lib\\matplotlib\\backends\\__init__.py -> build\\lib.win-amd64-cpython-39\\matplotlib\\backends\n",
      "  creating build\\lib.win-amd64-cpython-39\\matplotlib\\cbook\n",
      "  copying lib\\matplotlib\\cbook\\deprecation.py -> build\\lib.win-amd64-cpython-39\\matplotlib\\cbook\n",
      "  copying lib\\matplotlib\\cbook\\__init__.py -> build\\lib.win-amd64-cpython-39\\matplotlib\\cbook\n",
      "  creating build\\lib.win-amd64-cpython-39\\matplotlib\\compat\n",
      "  copying lib\\matplotlib\\compat\\subprocess.py -> build\\lib.win-amd64-cpython-39\\matplotlib\\compat\n",
      "  copying lib\\matplotlib\\compat\\__init__.py -> build\\lib.win-amd64-cpython-39\\matplotlib\\compat\n",
      "  creating build\\lib.win-amd64-cpython-39\\matplotlib\\projections\n",
      "  copying lib\\matplotlib\\projections\\geo.py -> build\\lib.win-amd64-cpython-39\\matplotlib\\projections\n",
      "  copying lib\\matplotlib\\projections\\polar.py -> build\\lib.win-amd64-cpython-39\\matplotlib\\projections\n",
      "  copying lib\\matplotlib\\projections\\__init__.py -> build\\lib.win-amd64-cpython-39\\matplotlib\\projections\n",
      "  creating build\\lib.win-amd64-cpython-39\\matplotlib\\sphinxext\n",
      "  copying lib\\matplotlib\\sphinxext\\mathmpl.py -> build\\lib.win-amd64-cpython-39\\matplotlib\\sphinxext\n",
      "  copying lib\\matplotlib\\sphinxext\\plot_directive.py -> build\\lib.win-amd64-cpython-39\\matplotlib\\sphinxext\n",
      "  copying lib\\matplotlib\\sphinxext\\__init__.py -> build\\lib.win-amd64-cpython-39\\matplotlib\\sphinxext\n",
      "  creating build\\lib.win-amd64-cpython-39\\matplotlib\\style\n",
      "  copying lib\\matplotlib\\style\\core.py -> build\\lib.win-amd64-cpython-39\\matplotlib\\style\n",
      "  copying lib\\matplotlib\\style\\__init__.py -> build\\lib.win-amd64-cpython-39\\matplotlib\\style\n",
      "  creating build\\lib.win-amd64-cpython-39\\matplotlib\\testing\n",
      "  copying lib\\matplotlib\\testing\\compare.py -> build\\lib.win-amd64-cpython-39\\matplotlib\\testing\n",
      "  copying lib\\matplotlib\\testing\\conftest.py -> build\\lib.win-amd64-cpython-39\\matplotlib\\testing\n",
      "  copying lib\\matplotlib\\testing\\decorators.py -> build\\lib.win-amd64-cpython-39\\matplotlib\\testing\n",
      "  copying lib\\matplotlib\\testing\\determinism.py -> build\\lib.win-amd64-cpython-39\\matplotlib\\testing\n",
      "  copying lib\\matplotlib\\testing\\disable_internet.py -> build\\lib.win-amd64-cpython-39\\matplotlib\\testing\n",
      "  copying lib\\matplotlib\\testing\\exceptions.py -> build\\lib.win-amd64-cpython-39\\matplotlib\\testing\n",
      "  copying lib\\matplotlib\\testing\\__init__.py -> build\\lib.win-amd64-cpython-39\\matplotlib\\testing\n",
      "  creating build\\lib.win-amd64-cpython-39\\matplotlib\\tri\n",
      "  copying lib\\matplotlib\\tri\\triangulation.py -> build\\lib.win-amd64-cpython-39\\matplotlib\\tri\n",
      "  copying lib\\matplotlib\\tri\\tricontour.py -> build\\lib.win-amd64-cpython-39\\matplotlib\\tri\n",
      "  copying lib\\matplotlib\\tri\\trifinder.py -> build\\lib.win-amd64-cpython-39\\matplotlib\\tri\n",
      "  copying lib\\matplotlib\\tri\\triinterpolate.py -> build\\lib.win-amd64-cpython-39\\matplotlib\\tri\n",
      "  copying lib\\matplotlib\\tri\\tripcolor.py -> build\\lib.win-amd64-cpython-39\\matplotlib\\tri\n",
      "  copying lib\\matplotlib\\tri\\triplot.py -> build\\lib.win-amd64-cpython-39\\matplotlib\\tri\n",
      "  copying lib\\matplotlib\\tri\\trirefine.py -> build\\lib.win-amd64-cpython-39\\matplotlib\\tri\n",
      "  copying lib\\matplotlib\\tri\\tritools.py -> build\\lib.win-amd64-cpython-39\\matplotlib\\tri\n",
      "  copying lib\\matplotlib\\tri\\__init__.py -> build\\lib.win-amd64-cpython-39\\matplotlib\\tri\n",
      "  creating build\\lib.win-amd64-cpython-39\\matplotlib\\backends\\qt_editor\n",
      "  copying lib\\matplotlib\\backends\\qt_editor\\figureoptions.py -> build\\lib.win-amd64-cpython-39\\matplotlib\\backends\\qt_editor\n",
      "  copying lib\\matplotlib\\backends\\qt_editor\\formlayout.py -> build\\lib.win-amd64-cpython-39\\matplotlib\\backends\\qt_editor\n",
      "  copying lib\\matplotlib\\backends\\qt_editor\\formsubplottool.py -> build\\lib.win-amd64-cpython-39\\matplotlib\\backends\\qt_editor\n",
      "  copying lib\\matplotlib\\backends\\qt_editor\\_formlayout.py -> build\\lib.win-amd64-cpython-39\\matplotlib\\backends\\qt_editor\n",
      "  copying lib\\matplotlib\\backends\\qt_editor\\__init__.py -> build\\lib.win-amd64-cpython-39\\matplotlib\\backends\\qt_editor\n",
      "  creating build\\lib.win-amd64-cpython-39\\matplotlib\\testing\\jpl_units\n",
      "  copying lib\\matplotlib\\testing\\jpl_units\\Duration.py -> build\\lib.win-amd64-cpython-39\\matplotlib\\testing\\jpl_units\n",
      "  copying lib\\matplotlib\\testing\\jpl_units\\Epoch.py -> build\\lib.win-amd64-cpython-39\\matplotlib\\testing\\jpl_units\n",
      "  copying lib\\matplotlib\\testing\\jpl_units\\EpochConverter.py -> build\\lib.win-amd64-cpython-39\\matplotlib\\testing\\jpl_units\n",
      "  copying lib\\matplotlib\\testing\\jpl_units\\StrConverter.py -> build\\lib.win-amd64-cpython-39\\matplotlib\\testing\\jpl_units\n",
      "  copying lib\\matplotlib\\testing\\jpl_units\\UnitDbl.py -> build\\lib.win-amd64-cpython-39\\matplotlib\\testing\\jpl_units\n",
      "  copying lib\\matplotlib\\testing\\jpl_units\\UnitDblConverter.py -> build\\lib.win-amd64-cpython-39\\matplotlib\\testing\\jpl_units\n",
      "  copying lib\\matplotlib\\testing\\jpl_units\\UnitDblFormatter.py -> build\\lib.win-amd64-cpython-39\\matplotlib\\testing\\jpl_units\n",
      "  copying lib\\matplotlib\\testing\\jpl_units\\__init__.py -> build\\lib.win-amd64-cpython-39\\matplotlib\\testing\\jpl_units\n",
      "  creating build\\lib.win-amd64-cpython-39\\mpl_toolkits\\axes_grid\n",
      "  copying lib\\mpl_toolkits\\axes_grid\\anchored_artists.py -> build\\lib.win-amd64-cpython-39\\mpl_toolkits\\axes_grid\n",
      "  copying lib\\mpl_toolkits\\axes_grid\\angle_helper.py -> build\\lib.win-amd64-cpython-39\\mpl_toolkits\\axes_grid\n",
      "  copying lib\\mpl_toolkits\\axes_grid\\axes_divider.py -> build\\lib.win-amd64-cpython-39\\mpl_toolkits\\axes_grid\n",
      "  copying lib\\mpl_toolkits\\axes_grid\\axes_grid.py -> build\\lib.win-amd64-cpython-39\\mpl_toolkits\\axes_grid\n",
      "  copying lib\\mpl_toolkits\\axes_grid\\axes_rgb.py -> build\\lib.win-amd64-cpython-39\\mpl_toolkits\\axes_grid\n",
      "  copying lib\\mpl_toolkits\\axes_grid\\axes_size.py -> build\\lib.win-amd64-cpython-39\\mpl_toolkits\\axes_grid\n",
      "  copying lib\\mpl_toolkits\\axes_grid\\axislines.py -> build\\lib.win-amd64-cpython-39\\mpl_toolkits\\axes_grid\n",
      "  copying lib\\mpl_toolkits\\axes_grid\\axisline_style.py -> build\\lib.win-amd64-cpython-39\\mpl_toolkits\\axes_grid\n",
      "  copying lib\\mpl_toolkits\\axes_grid\\axis_artist.py -> build\\lib.win-amd64-cpython-39\\mpl_toolkits\\axes_grid\n",
      "  copying lib\\mpl_toolkits\\axes_grid\\clip_path.py -> build\\lib.win-amd64-cpython-39\\mpl_toolkits\\axes_grid\n",
      "  copying lib\\mpl_toolkits\\axes_grid\\colorbar.py -> build\\lib.win-amd64-cpython-39\\mpl_toolkits\\axes_grid\n",
      "  copying lib\\mpl_toolkits\\axes_grid\\floating_axes.py -> build\\lib.win-amd64-cpython-39\\mpl_toolkits\\axes_grid\n",
      "  copying lib\\mpl_toolkits\\axes_grid\\grid_finder.py -> build\\lib.win-amd64-cpython-39\\mpl_toolkits\\axes_grid\n",
      "  copying lib\\mpl_toolkits\\axes_grid\\grid_helper_curvelinear.py -> build\\lib.win-amd64-cpython-39\\mpl_toolkits\\axes_grid\n",
      "  copying lib\\mpl_toolkits\\axes_grid\\inset_locator.py -> build\\lib.win-amd64-cpython-39\\mpl_toolkits\\axes_grid\n",
      "  copying lib\\mpl_toolkits\\axes_grid\\parasite_axes.py -> build\\lib.win-amd64-cpython-39\\mpl_toolkits\\axes_grid\n",
      "  copying lib\\mpl_toolkits\\axes_grid\\__init__.py -> build\\lib.win-amd64-cpython-39\\mpl_toolkits\\axes_grid\n",
      "  creating build\\lib.win-amd64-cpython-39\\mpl_toolkits\\axes_grid1\n",
      "  copying lib\\mpl_toolkits\\axes_grid1\\anchored_artists.py -> build\\lib.win-amd64-cpython-39\\mpl_toolkits\\axes_grid1\n",
      "  copying lib\\mpl_toolkits\\axes_grid1\\axes_divider.py -> build\\lib.win-amd64-cpython-39\\mpl_toolkits\\axes_grid1\n",
      "  copying lib\\mpl_toolkits\\axes_grid1\\axes_grid.py -> build\\lib.win-amd64-cpython-39\\mpl_toolkits\\axes_grid1\n",
      "  copying lib\\mpl_toolkits\\axes_grid1\\axes_rgb.py -> build\\lib.win-amd64-cpython-39\\mpl_toolkits\\axes_grid1\n",
      "  copying lib\\mpl_toolkits\\axes_grid1\\axes_size.py -> build\\lib.win-amd64-cpython-39\\mpl_toolkits\\axes_grid1\n",
      "  copying lib\\mpl_toolkits\\axes_grid1\\colorbar.py -> build\\lib.win-amd64-cpython-39\\mpl_toolkits\\axes_grid1\n",
      "  copying lib\\mpl_toolkits\\axes_grid1\\inset_locator.py -> build\\lib.win-amd64-cpython-39\\mpl_toolkits\\axes_grid1\n",
      "  copying lib\\mpl_toolkits\\axes_grid1\\mpl_axes.py -> build\\lib.win-amd64-cpython-39\\mpl_toolkits\\axes_grid1\n",
      "  copying lib\\mpl_toolkits\\axes_grid1\\parasite_axes.py -> build\\lib.win-amd64-cpython-39\\mpl_toolkits\\axes_grid1\n",
      "  copying lib\\mpl_toolkits\\axes_grid1\\__init__.py -> build\\lib.win-amd64-cpython-39\\mpl_toolkits\\axes_grid1\n",
      "  creating build\\lib.win-amd64-cpython-39\\mpl_toolkits\\axisartist\n",
      "  copying lib\\mpl_toolkits\\axisartist\\angle_helper.py -> build\\lib.win-amd64-cpython-39\\mpl_toolkits\\axisartist\n",
      "  copying lib\\mpl_toolkits\\axisartist\\axes_divider.py -> build\\lib.win-amd64-cpython-39\\mpl_toolkits\\axisartist\n",
      "  copying lib\\mpl_toolkits\\axisartist\\axes_grid.py -> build\\lib.win-amd64-cpython-39\\mpl_toolkits\\axisartist\n",
      "  copying lib\\mpl_toolkits\\axisartist\\axes_rgb.py -> build\\lib.win-amd64-cpython-39\\mpl_toolkits\\axisartist\n",
      "  copying lib\\mpl_toolkits\\axisartist\\axislines.py -> build\\lib.win-amd64-cpython-39\\mpl_toolkits\\axisartist\n",
      "  copying lib\\mpl_toolkits\\axisartist\\axisline_style.py -> build\\lib.win-amd64-cpython-39\\mpl_toolkits\\axisartist\n",
      "  copying lib\\mpl_toolkits\\axisartist\\axis_artist.py -> build\\lib.win-amd64-cpython-39\\mpl_toolkits\\axisartist\n",
      "  copying lib\\mpl_toolkits\\axisartist\\clip_path.py -> build\\lib.win-amd64-cpython-39\\mpl_toolkits\\axisartist\n",
      "  copying lib\\mpl_toolkits\\axisartist\\floating_axes.py -> build\\lib.win-amd64-cpython-39\\mpl_toolkits\\axisartist\n",
      "  copying lib\\mpl_toolkits\\axisartist\\grid_finder.py -> build\\lib.win-amd64-cpython-39\\mpl_toolkits\\axisartist\n",
      "  copying lib\\mpl_toolkits\\axisartist\\grid_helper_curvelinear.py -> build\\lib.win-amd64-cpython-39\\mpl_toolkits\\axisartist\n",
      "  copying lib\\mpl_toolkits\\axisartist\\parasite_axes.py -> build\\lib.win-amd64-cpython-39\\mpl_toolkits\\axisartist\n",
      "  copying lib\\mpl_toolkits\\axisartist\\__init__.py -> build\\lib.win-amd64-cpython-39\\mpl_toolkits\\axisartist\n",
      "  creating build\\lib.win-amd64-cpython-39\\mpl_toolkits\\mplot3d\n",
      "  copying lib\\mpl_toolkits\\mplot3d\\art3d.py -> build\\lib.win-amd64-cpython-39\\mpl_toolkits\\mplot3d\n",
      "  copying lib\\mpl_toolkits\\mplot3d\\axes3d.py -> build\\lib.win-amd64-cpython-39\\mpl_toolkits\\mplot3d\n",
      "  copying lib\\mpl_toolkits\\mplot3d\\axis3d.py -> build\\lib.win-amd64-cpython-39\\mpl_toolkits\\mplot3d\n",
      "  copying lib\\mpl_toolkits\\mplot3d\\proj3d.py -> build\\lib.win-amd64-cpython-39\\mpl_toolkits\\mplot3d\n",
      "  copying lib\\mpl_toolkits\\mplot3d\\__init__.py -> build\\lib.win-amd64-cpython-39\\mpl_toolkits\\mplot3d\n",
      "  creating build\\lib.win-amd64-cpython-39\\matplotlib\\mpl-data\n",
      "  creating build\\lib.win-amd64-cpython-39\\matplotlib\\mpl-data\\fonts\n",
      "  creating build\\lib.win-amd64-cpython-39\\matplotlib\\mpl-data\\fonts\\ttf\n",
      "  copying lib\\matplotlib\\mpl-data\\fonts\\ttf\\STIXSizFourSymReg.ttf -> build\\lib.win-amd64-cpython-39\\matplotlib\\mpl-data\\fonts\\ttf\n",
      "  creating build\\lib.win-amd64-cpython-39\\matplotlib\\mpl-data\\stylelib\n",
      "  copying lib\\matplotlib\\mpl-data\\stylelib\\classic.mplstyle -> build\\lib.win-amd64-cpython-39\\matplotlib\\mpl-data\\stylelib\n",
      "  creating build\\lib.win-amd64-cpython-39\\matplotlib\\mpl-data\\fonts\\pdfcorefonts\n",
      "  copying lib\\matplotlib\\mpl-data\\fonts\\pdfcorefonts\\Times-Bold.afm -> build\\lib.win-amd64-cpython-39\\matplotlib\\mpl-data\\fonts\\pdfcorefonts\n",
      "  copying lib\\matplotlib\\mpl-data\\stylelib\\seaborn-paper.mplstyle -> build\\lib.win-amd64-cpython-39\\matplotlib\\mpl-data\\stylelib\n",
      "  creating build\\lib.win-amd64-cpython-39\\matplotlib\\mpl-data\\fonts\\afm\n",
      "  copying lib\\matplotlib\\mpl-data\\fonts\\afm\\cmr10.afm -> build\\lib.win-amd64-cpython-39\\matplotlib\\mpl-data\\fonts\\afm\n",
      "  copying lib\\matplotlib\\mpl-data\\stylelib\\ggplot.mplstyle -> build\\lib.win-amd64-cpython-39\\matplotlib\\mpl-data\\stylelib\n",
      "  creating build\\lib.win-amd64-cpython-39\\matplotlib\\mpl-data\\images\n",
      "  copying lib\\matplotlib\\mpl-data\\images\\filesave.pdf -> build\\lib.win-amd64-cpython-39\\matplotlib\\mpl-data\\images\n",
      "  copying lib\\matplotlib\\mpl-data\\fonts\\afm\\pcrr8a.afm -> build\\lib.win-amd64-cpython-39\\matplotlib\\mpl-data\\fonts\\afm\n",
      "  copying lib\\matplotlib\\mpl-data\\fonts\\afm\\pcrb8a.afm -> build\\lib.win-amd64-cpython-39\\matplotlib\\mpl-data\\fonts\\afm\n",
      "  copying lib\\matplotlib\\mpl-data\\stylelib\\seaborn-white.mplstyle -> build\\lib.win-amd64-cpython-39\\matplotlib\\mpl-data\\stylelib\n",
      "  copying lib\\matplotlib\\mpl-data\\fonts\\pdfcorefonts\\Courier-Bold.afm -> build\\lib.win-amd64-cpython-39\\matplotlib\\mpl-data\\fonts\\pdfcorefonts\n",
      "  copying lib\\matplotlib\\mpl-data\\fonts\\ttf\\STIXGeneralBolIta.ttf -> build\\lib.win-amd64-cpython-39\\matplotlib\\mpl-data\\fonts\\ttf\n",
      "  creating build\\lib.win-amd64-cpython-39\\matplotlib\\backends\\web_backend\n",
      "  copying lib\\matplotlib\\backends\\web_backend\\nbagg_uat.ipynb -> build\\lib.win-amd64-cpython-39\\matplotlib\\backends\\web_backend\n",
      "  creating build\\lib.win-amd64-cpython-39\\matplotlib\\mpl-data\\sample_data\n",
      "  copying lib\\matplotlib\\mpl-data\\sample_data\\None_vs_nearest-pdf.png -> build\\lib.win-amd64-cpython-39\\matplotlib\\mpl-data\\sample_data\n",
      "  copying lib\\matplotlib\\mpl-data\\matplotlibrc -> build\\lib.win-amd64-cpython-39\\matplotlib\\mpl-data\n",
      "  copying lib\\matplotlib\\mpl-data\\images\\zoom_to_rect.svg -> build\\lib.win-amd64-cpython-39\\matplotlib\\mpl-data\\images\n",
      "  copying lib\\matplotlib\\mpl-data\\fonts\\afm\\phvbo8a.afm -> build\\lib.win-amd64-cpython-39\\matplotlib\\mpl-data\\fonts\\afm\n",
      "  copying lib\\matplotlib\\mpl-data\\images\\move.gif -> build\\lib.win-amd64-cpython-39\\matplotlib\\mpl-data\\images\n",
      "  copying lib\\matplotlib\\mpl-data\\images\\back.png -> build\\lib.win-amd64-cpython-39\\matplotlib\\mpl-data\\images\n",
      "  copying lib\\matplotlib\\mpl-data\\images\\home.gif -> build\\lib.win-amd64-cpython-39\\matplotlib\\mpl-data\\images\n",
      "  creating build\\lib.win-amd64-cpython-39\\matplotlib\\backends\\web_backend\\jquery-ui-1.12.1\n",
      "  copying lib\\matplotlib\\backends\\web_backend\\jquery-ui-1.12.1\\jquery-ui.theme.min.css -> build\\lib.win-amd64-cpython-39\\matplotlib\\backends\\web_backend\\jquery-ui-1.12.1\n",
      "  copying lib\\matplotlib\\mpl-data\\stylelib\\seaborn-ticks.mplstyle -> build\\lib.win-amd64-cpython-39\\matplotlib\\mpl-data\\stylelib\n",
      "  copying lib\\matplotlib\\mpl-data\\fonts\\pdfcorefonts\\Courier-BoldOblique.afm -> build\\lib.win-amd64-cpython-39\\matplotlib\\mpl-data\\fonts\\pdfcorefonts\n",
      "  copying lib\\matplotlib\\mpl-data\\images\\zoom_to_rect.pdf -> build\\lib.win-amd64-cpython-39\\matplotlib\\mpl-data\\images\n",
      "  copying lib\\matplotlib\\mpl-data\\images\\back_large.png -> build\\lib.win-amd64-cpython-39\\matplotlib\\mpl-data\\images\n",
      "  copying lib\\matplotlib\\mpl-data\\images\\home.png -> build\\lib.win-amd64-cpython-39\\matplotlib\\mpl-data\\images\n",
      "  copying lib\\matplotlib\\mpl-data\\stylelib\\seaborn-notebook.mplstyle -> build\\lib.win-amd64-cpython-39\\matplotlib\\mpl-data\\stylelib\n",
      "  copying lib\\matplotlib\\mpl-data\\stylelib\\tableau-colorblind10.mplstyle -> build\\lib.win-amd64-cpython-39\\matplotlib\\mpl-data\\stylelib\n",
      "  copying lib\\matplotlib\\mpl-data\\fonts\\pdfcorefonts\\Helvetica-BoldOblique.afm -> build\\lib.win-amd64-cpython-39\\matplotlib\\mpl-data\\fonts\\pdfcorefonts\n",
      "  copying lib\\matplotlib\\mpl-data\\fonts\\afm\\cmex10.afm -> build\\lib.win-amd64-cpython-39\\matplotlib\\mpl-data\\fonts\\afm\n",
      "  copying lib\\matplotlib\\mpl-data\\fonts\\afm\\ptmbi8a.afm -> build\\lib.win-amd64-cpython-39\\matplotlib\\mpl-data\\fonts\\afm\n",
      "  copying lib\\matplotlib\\mpl-data\\fonts\\afm\\pagdo8a.afm -> build\\lib.win-amd64-cpython-39\\matplotlib\\mpl-data\\fonts\\afm\n",
      "  copying lib\\matplotlib\\mpl-data\\fonts\\afm\\pbkli8a.afm -> build\\lib.win-amd64-cpython-39\\matplotlib\\mpl-data\\fonts\\afm\n",
      "  copying lib\\matplotlib\\mpl-data\\fonts\\afm\\ptmb8a.afm -> build\\lib.win-amd64-cpython-39\\matplotlib\\mpl-data\\fonts\\afm\n",
      "  copying lib\\matplotlib\\mpl-data\\images\\subplots_large.png -> build\\lib.win-amd64-cpython-39\\matplotlib\\mpl-data\\images\n",
      "  copying lib\\matplotlib\\mpl-data\\sample_data\\grace_hopper.png -> build\\lib.win-amd64-cpython-39\\matplotlib\\mpl-data\\sample_data\n",
      "  copying lib\\matplotlib\\mpl-data\\fonts\\ttf\\DejaVuSansDisplay.ttf -> build\\lib.win-amd64-cpython-39\\matplotlib\\mpl-data\\fonts\\ttf\n",
      "  copying lib\\matplotlib\\backends\\web_backend\\jquery-ui-1.12.1\\jquery-ui.structure.css -> build\\lib.win-amd64-cpython-39\\matplotlib\\backends\\web_backend\\jquery-ui-1.12.1\n",
      "  copying lib\\matplotlib\\mpl-data\\fonts\\ttf\\cmex10.ttf -> build\\lib.win-amd64-cpython-39\\matplotlib\\mpl-data\\fonts\\ttf\n",
      "  copying lib\\matplotlib\\mpl-data\\sample_data\\goog.npz -> build\\lib.win-amd64-cpython-39\\matplotlib\\mpl-data\\sample_data\n",
      "  copying lib\\matplotlib\\mpl-data\\fonts\\ttf\\STIXNonUniBolIta.ttf -> build\\lib.win-amd64-cpython-39\\matplotlib\\mpl-data\\fonts\\ttf\n",
      "  copying lib\\matplotlib\\mpl-data\\stylelib\\fivethirtyeight.mplstyle -> build\\lib.win-amd64-cpython-39\\matplotlib\\mpl-data\\stylelib\n",
      "  copying lib\\matplotlib\\mpl-data\\fonts\\ttf\\LICENSE_STIX -> build\\lib.win-amd64-cpython-39\\matplotlib\\mpl-data\\fonts\\ttf\n",
      "  creating build\\lib.win-amd64-cpython-39\\matplotlib\\backends\\web_backend\\jquery-ui-1.12.1\\images\n",
      "  copying lib\\matplotlib\\backends\\web_backend\\jquery-ui-1.12.1\\images\\ui-icons_777777_256x240.png -> build\\lib.win-amd64-cpython-39\\matplotlib\\backends\\web_backend\\jquery-ui-1.12.1\\images\n",
      "  copying lib\\matplotlib\\mpl-data\\images\\matplotlib.ppm -> build\\lib.win-amd64-cpython-39\\matplotlib\\mpl-data\\images\n",
      "  copying lib\\matplotlib\\mpl-data\\fonts\\afm\\putbi8a.afm -> build\\lib.win-amd64-cpython-39\\matplotlib\\mpl-data\\fonts\\afm\n",
      "  copying lib\\matplotlib\\mpl-data\\images\\move.png -> build\\lib.win-amd64-cpython-39\\matplotlib\\mpl-data\\images\n",
      "  copying lib\\matplotlib\\backends\\web_backend\\jquery-ui-1.12.1\\images\\ui-icons_555555_256x240.png -> build\\lib.win-amd64-cpython-39\\matplotlib\\backends\\web_backend\\jquery-ui-1.12.1\\images\n",
      "  creating build\\lib.win-amd64-cpython-39\\matplotlib\\backends\\web_backend\\css\n",
      "  copying lib\\matplotlib\\backends\\web_backend\\css\\page.css -> build\\lib.win-amd64-cpython-39\\matplotlib\\backends\\web_backend\\css\n",
      "  copying lib\\matplotlib\\mpl-data\\images\\filesave.svg -> build\\lib.win-amd64-cpython-39\\matplotlib\\mpl-data\\images\n",
      "  copying lib\\matplotlib\\backends\\web_backend\\ipython_inline_figure.html -> build\\lib.win-amd64-cpython-39\\matplotlib\\backends\\web_backend\n",
      "  copying lib\\matplotlib\\mpl-data\\sample_data\\eeg.dat -> build\\lib.win-amd64-cpython-39\\matplotlib\\mpl-data\\sample_data\n",
      "  copying lib\\matplotlib\\mpl-data\\stylelib\\seaborn-whitegrid.mplstyle -> build\\lib.win-amd64-cpython-39\\matplotlib\\mpl-data\\stylelib\n",
      "  copying lib\\matplotlib\\mpl-data\\fonts\\ttf\\STIXSizFourSymBol.ttf -> build\\lib.win-amd64-cpython-39\\matplotlib\\mpl-data\\fonts\\ttf\n",
      "  copying lib\\matplotlib\\mpl-data\\fonts\\ttf\\cmsy10.ttf -> build\\lib.win-amd64-cpython-39\\matplotlib\\mpl-data\\fonts\\ttf\n",
      "  copying lib\\matplotlib\\backends\\web_backend\\jquery-ui-1.12.1\\images\\ui-icons_cc0000_256x240.png -> build\\lib.win-amd64-cpython-39\\matplotlib\\backends\\web_backend\\jquery-ui-1.12.1\\images\n",
      "  copying lib\\matplotlib\\mpl-data\\images\\hand.png -> build\\lib.win-amd64-cpython-39\\matplotlib\\mpl-data\\images\n",
      "  copying lib\\matplotlib\\mpl-data\\fonts\\ttf\\DejaVuSansMono-BoldOblique.ttf -> build\\lib.win-amd64-cpython-39\\matplotlib\\mpl-data\\fonts\\ttf\n",
      "  copying lib\\matplotlib\\mpl-data\\fonts\\ttf\\DejaVuSerif-Bold.ttf -> build\\lib.win-amd64-cpython-39\\matplotlib\\mpl-data\\fonts\\ttf\n",
      "  copying lib\\matplotlib\\mpl-data\\fonts\\afm\\cmmi10.afm -> build\\lib.win-amd64-cpython-39\\matplotlib\\mpl-data\\fonts\\afm\n",
      "  copying lib\\matplotlib\\mpl-data\\images\\back.gif -> build\\lib.win-amd64-cpython-39\\matplotlib\\mpl-data\\images\n",
      "  copying lib\\matplotlib\\mpl-data\\stylelib\\seaborn-pastel.mplstyle -> build\\lib.win-amd64-cpython-39\\matplotlib\\mpl-data\\stylelib\n",
      "  copying lib\\matplotlib\\mpl-data\\sample_data\\grace_hopper.jpg -> build\\lib.win-amd64-cpython-39\\matplotlib\\mpl-data\\sample_data\n",
      "  copying lib\\matplotlib\\mpl-data\\fonts\\pdfcorefonts\\Courier.afm -> build\\lib.win-amd64-cpython-39\\matplotlib\\mpl-data\\fonts\\pdfcorefonts\n",
      "  copying lib\\matplotlib\\backends\\web_backend\\jquery-ui-1.12.1\\images\\ui-icons_ffffff_256x240.png -> build\\lib.win-amd64-cpython-39\\matplotlib\\backends\\web_backend\\jquery-ui-1.12.1\\images\n",
      "  copying lib\\matplotlib\\mpl-data\\fonts\\afm\\pagk8a.afm -> build\\lib.win-amd64-cpython-39\\matplotlib\\mpl-data\\fonts\\afm\n",
      "  copying lib\\matplotlib\\mpl-data\\fonts\\afm\\pncbi8a.afm -> build\\lib.win-amd64-cpython-39\\matplotlib\\mpl-data\\fonts\\afm\n",
      "  copying lib\\matplotlib\\mpl-data\\fonts\\pdfcorefonts\\readme.txt -> build\\lib.win-amd64-cpython-39\\matplotlib\\mpl-data\\fonts\\pdfcorefonts\n",
      "  copying lib\\matplotlib\\mpl-data\\fonts\\afm\\pcrro8a.afm -> build\\lib.win-amd64-cpython-39\\matplotlib\\mpl-data\\fonts\\afm\n",
      "  copying lib\\matplotlib\\mpl-data\\fonts\\ttf\\DejaVuSerif-BoldItalic.ttf -> build\\lib.win-amd64-cpython-39\\matplotlib\\mpl-data\\fonts\\ttf\n",
      "  copying lib\\matplotlib\\mpl-data\\images\\qt4_editor_options.svg -> build\\lib.win-amd64-cpython-39\\matplotlib\\mpl-data\\images\n",
      "  copying lib\\matplotlib\\mpl-data\\fonts\\ttf\\DejaVuSans-Oblique.ttf -> build\\lib.win-amd64-cpython-39\\matplotlib\\mpl-data\\fonts\\ttf\n",
      "  copying lib\\matplotlib\\mpl-data\\images\\forward.pdf -> build\\lib.win-amd64-cpython-39\\matplotlib\\mpl-data\\images\n",
      "  copying lib\\matplotlib\\mpl-data\\fonts\\pdfcorefonts\\Times-Roman.afm -> build\\lib.win-amd64-cpython-39\\matplotlib\\mpl-data\\fonts\\pdfcorefonts\n",
      "  copying lib\\matplotlib\\mpl-data\\fonts\\afm\\pbkdi8a.afm -> build\\lib.win-amd64-cpython-39\\matplotlib\\mpl-data\\fonts\\afm\n",
      "  copying lib\\matplotlib\\mpl-data\\fonts\\ttf\\STIXNonUniBol.ttf -> build\\lib.win-amd64-cpython-39\\matplotlib\\mpl-data\\fonts\\ttf\n",
      "  copying lib\\matplotlib\\mpl-data\\fonts\\pdfcorefonts\\Courier-Oblique.afm -> build\\lib.win-amd64-cpython-39\\matplotlib\\mpl-data\\fonts\\pdfcorefonts\n",
      "  copying lib\\matplotlib\\mpl-data\\sample_data\\README.txt -> build\\lib.win-amd64-cpython-39\\matplotlib\\mpl-data\\sample_data\n",
      "  copying lib\\matplotlib\\mpl-data\\images\\subplots.svg -> build\\lib.win-amd64-cpython-39\\matplotlib\\mpl-data\\images\n",
      "  copying lib\\matplotlib\\mpl-data\\sample_data\\percent_bachelors_degrees_women_usa.csv -> build\\lib.win-amd64-cpython-39\\matplotlib\\mpl-data\\sample_data\n",
      "  copying lib\\matplotlib\\mpl-data\\images\\help.ppm -> build\\lib.win-amd64-cpython-39\\matplotlib\\mpl-data\\images\n",
      "  copying lib\\matplotlib\\mpl-data\\fonts\\pdfcorefonts\\ZapfDingbats.afm -> build\\lib.win-amd64-cpython-39\\matplotlib\\mpl-data\\fonts\\pdfcorefonts\n",
      "  copying lib\\matplotlib\\mpl-data\\fonts\\pdfcorefonts\\Symbol.afm -> build\\lib.win-amd64-cpython-39\\matplotlib\\mpl-data\\fonts\\pdfcorefonts\n",
      "  copying lib\\matplotlib\\mpl-data\\fonts\\pdfcorefonts\\Times-Italic.afm -> build\\lib.win-amd64-cpython-39\\matplotlib\\mpl-data\\fonts\\pdfcorefonts\n",
      "  copying lib\\matplotlib\\mpl-data\\images\\forward.svg -> build\\lib.win-amd64-cpython-39\\matplotlib\\mpl-data\\images\n",
      "  copying lib\\matplotlib\\mpl-data\\images\\hand.svg -> build\\lib.win-amd64-cpython-39\\matplotlib\\mpl-data\\images\n",
      "  copying lib\\matplotlib\\mpl-data\\sample_data\\ada.png -> build\\lib.win-amd64-cpython-39\\matplotlib\\mpl-data\\sample_data\n",
      "  copying lib\\matplotlib\\mpl-data\\stylelib\\bmh.mplstyle -> build\\lib.win-amd64-cpython-39\\matplotlib\\mpl-data\\stylelib\n",
      "  copying lib\\matplotlib\\mpl-data\\fonts\\ttf\\STIXNonUniIta.ttf -> build\\lib.win-amd64-cpython-39\\matplotlib\\mpl-data\\fonts\\ttf\n",
      "  copying lib\\matplotlib\\backends\\web_backend\\jquery-ui-1.12.1\\jquery-ui.css -> build\\lib.win-amd64-cpython-39\\matplotlib\\backends\\web_backend\\jquery-ui-1.12.1\n",
      "  copying lib\\matplotlib\\mpl-data\\fonts\\afm\\ptmri8a.afm -> build\\lib.win-amd64-cpython-39\\matplotlib\\mpl-data\\fonts\\afm\n",
      "  copying lib\\matplotlib\\mpl-data\\images\\move_large.png -> build\\lib.win-amd64-cpython-39\\matplotlib\\mpl-data\\images\n",
      "  copying lib\\matplotlib\\backends\\web_backend\\all_figures.html -> build\\lib.win-amd64-cpython-39\\matplotlib\\backends\\web_backend\n",
      "  copying lib\\matplotlib\\mpl-data\\fonts\\afm\\pncb8a.afm -> build\\lib.win-amd64-cpython-39\\matplotlib\\mpl-data\\fonts\\afm\n",
      "  copying lib\\matplotlib\\mpl-data\\fonts\\ttf\\STIXSizOneSymReg.ttf -> build\\lib.win-amd64-cpython-39\\matplotlib\\mpl-data\\fonts\\ttf\n",
      "  copying lib\\matplotlib\\mpl-data\\stylelib\\seaborn-colorblind.mplstyle -> build\\lib.win-amd64-cpython-39\\matplotlib\\mpl-data\\stylelib\n",
      "  copying lib\\matplotlib\\mpl-data\\fonts\\afm\\pagd8a.afm -> build\\lib.win-amd64-cpython-39\\matplotlib\\mpl-data\\fonts\\afm\n",
      "  copying lib\\matplotlib\\mpl-data\\fonts\\afm\\phvro8an.afm -> build\\lib.win-amd64-cpython-39\\matplotlib\\mpl-data\\fonts\\afm\n",
      "  copying lib\\matplotlib\\mpl-data\\fonts\\afm\\cmtt10.afm -> build\\lib.win-amd64-cpython-39\\matplotlib\\mpl-data\\fonts\\afm\n",
      "  creating build\\lib.win-amd64-cpython-39\\matplotlib\\backends\\web_backend\\js\n",
      "  copying lib\\matplotlib\\backends\\web_backend\\js\\nbagg_mpl.js -> build\\lib.win-amd64-cpython-39\\matplotlib\\backends\\web_backend\\js\n",
      "  copying lib\\matplotlib\\mpl-data\\stylelib\\seaborn-darkgrid.mplstyle -> build\\lib.win-amd64-cpython-39\\matplotlib\\mpl-data\\stylelib\n",
      "  copying lib\\matplotlib\\mpl-data\\images\\filesave_large.png -> build\\lib.win-amd64-cpython-39\\matplotlib\\mpl-data\\images\n",
      "  copying lib\\matplotlib\\mpl-data\\images\\zoom_to_rect_large.png -> build\\lib.win-amd64-cpython-39\\matplotlib\\mpl-data\\images\n",
      "  copying lib\\matplotlib\\mpl-data\\stylelib\\dark_background.mplstyle -> build\\lib.win-amd64-cpython-39\\matplotlib\\mpl-data\\stylelib\n",
      "  copying lib\\matplotlib\\mpl-data\\fonts\\afm\\putr8a.afm -> build\\lib.win-amd64-cpython-39\\matplotlib\\mpl-data\\fonts\\afm\n",
      "  copying lib\\matplotlib\\mpl-data\\fonts\\pdfcorefonts\\Times-BoldItalic.afm -> build\\lib.win-amd64-cpython-39\\matplotlib\\mpl-data\\fonts\\pdfcorefonts\n",
      "  copying lib\\matplotlib\\mpl-data\\images\\subplots.png -> build\\lib.win-amd64-cpython-39\\matplotlib\\mpl-data\\images\n",
      "  copying lib\\matplotlib\\mpl-data\\stylelib\\seaborn-talk.mplstyle -> build\\lib.win-amd64-cpython-39\\matplotlib\\mpl-data\\stylelib\n",
      "  copying lib\\matplotlib\\mpl-data\\fonts\\ttf\\DejaVuSans-BoldOblique.ttf -> build\\lib.win-amd64-cpython-39\\matplotlib\\mpl-data\\fonts\\ttf\n",
      "  copying lib\\matplotlib\\mpl-data\\sample_data\\embedding_in_wx3.xrc -> build\\lib.win-amd64-cpython-39\\matplotlib\\mpl-data\\sample_data\n",
      "  copying lib\\matplotlib\\mpl-data\\fonts\\ttf\\STIXSizTwoSymReg.ttf -> build\\lib.win-amd64-cpython-39\\matplotlib\\mpl-data\\fonts\\ttf\n",
      "  creating build\\lib.win-amd64-cpython-39\\matplotlib\\backends\\web_backend\\jquery\n",
      "  creating build\\lib.win-amd64-cpython-39\\matplotlib\\backends\\web_backend\\jquery\\js\n",
      "  copying lib\\matplotlib\\backends\\web_backend\\jquery\\js\\jquery.js -> build\\lib.win-amd64-cpython-39\\matplotlib\\backends\\web_backend\\jquery\\js\n",
      "  copying lib\\matplotlib\\mpl-data\\images\\filesave.gif -> build\\lib.win-amd64-cpython-39\\matplotlib\\mpl-data\\images\n",
      "  copying lib\\matplotlib\\mpl-data\\images\\home_large.gif -> build\\lib.win-amd64-cpython-39\\matplotlib\\mpl-data\\images\n",
      "  copying lib\\matplotlib\\mpl-data\\images\\move.pdf -> build\\lib.win-amd64-cpython-39\\matplotlib\\mpl-data\\images\n",
      "  copying lib\\matplotlib\\mpl-data\\fonts\\ttf\\STIXSizThreeSymBol.ttf -> build\\lib.win-amd64-cpython-39\\matplotlib\\mpl-data\\fonts\\ttf\n",
      "  copying lib\\matplotlib\\mpl-data\\stylelib\\seaborn-bright.mplstyle -> build\\lib.win-amd64-cpython-39\\matplotlib\\mpl-data\\stylelib\n",
      "  copying lib\\matplotlib\\mpl-data\\fonts\\afm\\ptmr8a.afm -> build\\lib.win-amd64-cpython-39\\matplotlib\\mpl-data\\fonts\\afm\n",
      "  copying lib\\matplotlib\\mpl-data\\fonts\\ttf\\DejaVuSans.ttf -> build\\lib.win-amd64-cpython-39\\matplotlib\\mpl-data\\fonts\\ttf\n",
      "  copying lib\\matplotlib\\mpl-data\\images\\qt4_editor_options_large.png -> build\\lib.win-amd64-cpython-39\\matplotlib\\mpl-data\\images\n",
      "  copying lib\\matplotlib\\backends\\web_backend\\jquery-ui-1.12.1\\images\\ui-icons_444444_256x240.png -> build\\lib.win-amd64-cpython-39\\matplotlib\\backends\\web_backend\\jquery-ui-1.12.1\\images\n",
      "  copying lib\\matplotlib\\mpl-data\\images\\matplotlib_large.png -> build\\lib.win-amd64-cpython-39\\matplotlib\\mpl-data\\images\n",
      "  copying lib\\matplotlib\\mpl-data\\fonts\\afm\\putb8a.afm -> build\\lib.win-amd64-cpython-39\\matplotlib\\mpl-data\\fonts\\afm\n",
      "  copying lib\\matplotlib\\mpl-data\\fonts\\afm\\phvbo8an.afm -> build\\lib.win-amd64-cpython-39\\matplotlib\\mpl-data\\fonts\\afm\n",
      "  copying lib\\matplotlib\\backends\\web_backend\\jquery-ui-1.12.1\\images\\ui-icons_777620_256x240.png -> build\\lib.win-amd64-cpython-39\\matplotlib\\backends\\web_backend\\jquery-ui-1.12.1\\images\n",
      "  copying lib\\matplotlib\\mpl-data\\images\\move_large.gif -> build\\lib.win-amd64-cpython-39\\matplotlib\\mpl-data\\images\n",
      "  copying lib\\matplotlib\\mpl-data\\stylelib\\grayscale.mplstyle -> build\\lib.win-amd64-cpython-39\\matplotlib\\mpl-data\\stylelib\n",
      "  copying lib\\matplotlib\\mpl-data\\stylelib\\seaborn.mplstyle -> build\\lib.win-amd64-cpython-39\\matplotlib\\mpl-data\\stylelib\n",
      "  copying lib\\matplotlib\\mpl-data\\sample_data\\Minduka_Present_Blue_Pack.png -> build\\lib.win-amd64-cpython-39\\matplotlib\\mpl-data\\sample_data\n",
      "  copying lib\\matplotlib\\mpl-data\\fonts\\afm\\phvr8a.afm -> build\\lib.win-amd64-cpython-39\\matplotlib\\mpl-data\\fonts\\afm\n",
      "  copying lib\\matplotlib\\mpl-data\\fonts\\ttf\\DejaVuSansMono.ttf -> build\\lib.win-amd64-cpython-39\\matplotlib\\mpl-data\\fonts\\ttf\n",
      "  copying lib\\matplotlib\\mpl-data\\fonts\\ttf\\LICENSE_DEJAVU -> build\\lib.win-amd64-cpython-39\\matplotlib\\mpl-data\\fonts\\ttf\n",
      "  copying lib\\matplotlib\\mpl-data\\fonts\\ttf\\STIXGeneral.ttf -> build\\lib.win-amd64-cpython-39\\matplotlib\\mpl-data\\fonts\\ttf\n",
      "  copying lib\\matplotlib\\mpl-data\\fonts\\afm\\pplri8a.afm -> build\\lib.win-amd64-cpython-39\\matplotlib\\mpl-data\\fonts\\afm\n",
      "  copying lib\\matplotlib\\mpl-data\\fonts\\afm\\psyr.afm -> build\\lib.win-amd64-cpython-39\\matplotlib\\mpl-data\\fonts\\afm\n",
      "  copying lib\\matplotlib\\mpl-data\\fonts\\afm\\phvb8a.afm -> build\\lib.win-amd64-cpython-39\\matplotlib\\mpl-data\\fonts\\afm\n",
      "  copying lib\\matplotlib\\mpl-data\\images\\subplots.pdf -> build\\lib.win-amd64-cpython-39\\matplotlib\\mpl-data\\images\n",
      "  copying lib\\matplotlib\\mpl-data\\images\\forward.png -> build\\lib.win-amd64-cpython-39\\matplotlib\\mpl-data\\images\n",
      "  copying lib\\matplotlib\\mpl-data\\stylelib\\seaborn-poster.mplstyle -> build\\lib.win-amd64-cpython-39\\matplotlib\\mpl-data\\stylelib\n",
      "  copying lib\\matplotlib\\mpl-data\\fonts\\afm\\pplb8a.afm -> build\\lib.win-amd64-cpython-39\\matplotlib\\mpl-data\\fonts\\afm\n",
      "  copying lib\\matplotlib\\mpl-data\\stylelib\\Solarize_Light2.mplstyle -> build\\lib.win-amd64-cpython-39\\matplotlib\\mpl-data\\stylelib\n",
      "  copying lib\\matplotlib\\mpl-data\\stylelib\\seaborn-dark-palette.mplstyle -> build\\lib.win-amd64-cpython-39\\matplotlib\\mpl-data\\stylelib\n",
      "  copying lib\\matplotlib\\backends\\web_backend\\css\\fbm.css -> build\\lib.win-amd64-cpython-39\\matplotlib\\backends\\web_backend\\css\n",
      "  copying lib\\matplotlib\\mpl-data\\fonts\\afm\\pncr8a.afm -> build\\lib.win-amd64-cpython-39\\matplotlib\\mpl-data\\fonts\\afm\n",
      "  copying lib\\matplotlib\\backends\\web_backend\\jquery-ui-1.12.1\\LICENSE.txt -> build\\lib.win-amd64-cpython-39\\matplotlib\\backends\\web_backend\\jquery-ui-1.12.1\n",
      "  copying lib\\matplotlib\\mpl-data\\sample_data\\demodata.csv -> build\\lib.win-amd64-cpython-39\\matplotlib\\mpl-data\\sample_data\n",
      "  copying lib\\matplotlib\\mpl-data\\images\\matplotlib.png -> build\\lib.win-amd64-cpython-39\\matplotlib\\mpl-data\\images\n",
      "  copying lib\\matplotlib\\mpl-data\\stylelib\\seaborn-muted.mplstyle -> build\\lib.win-amd64-cpython-39\\matplotlib\\mpl-data\\stylelib\n",
      "  copying lib\\matplotlib\\mpl-data\\fonts\\afm\\pplbi8a.afm -> build\\lib.win-amd64-cpython-39\\matplotlib\\mpl-data\\fonts\\afm\n",
      "  copying lib\\matplotlib\\mpl-data\\fonts\\ttf\\STIXGeneralBol.ttf -> build\\lib.win-amd64-cpython-39\\matplotlib\\mpl-data\\fonts\\ttf\n",
      "  copying lib\\matplotlib\\mpl-data\\images\\zoom_to_rect.gif -> build\\lib.win-amd64-cpython-39\\matplotlib\\mpl-data\\images\n",
      "  copying lib\\matplotlib\\backends\\web_backend\\js\\mpl_tornado.js -> build\\lib.win-amd64-cpython-39\\matplotlib\\backends\\web_backend\\js\n",
      "  copying lib\\matplotlib\\mpl-data\\fonts\\ttf\\cmmi10.ttf -> build\\lib.win-amd64-cpython-39\\matplotlib\\mpl-data\\fonts\\ttf\n",
      "  copying lib\\matplotlib\\mpl-data\\images\\qt4_editor_options.pdf -> build\\lib.win-amd64-cpython-39\\matplotlib\\mpl-data\\images\n",
      "  copying lib\\matplotlib\\mpl-data\\images\\subplots.gif -> build\\lib.win-amd64-cpython-39\\matplotlib\\mpl-data\\images\n",
      "  copying lib\\matplotlib\\mpl-data\\images\\subplots_large.gif -> build\\lib.win-amd64-cpython-39\\matplotlib\\mpl-data\\images\n",
      "  copying lib\\matplotlib\\mpl-data\\images\\help.pdf -> build\\lib.win-amd64-cpython-39\\matplotlib\\mpl-data\\images\n",
      "  copying lib\\matplotlib\\mpl-data\\images\\help_large.ppm -> build\\lib.win-amd64-cpython-39\\matplotlib\\mpl-data\\images\n",
      "  copying lib\\matplotlib\\mpl-data\\images\\back.pdf -> build\\lib.win-amd64-cpython-39\\matplotlib\\mpl-data\\images\n",
      "  copying lib\\matplotlib\\backends\\web_backend\\jquery-ui-1.12.1\\jquery-ui.js -> build\\lib.win-amd64-cpython-39\\matplotlib\\backends\\web_backend\\jquery-ui-1.12.1\n",
      "  copying lib\\matplotlib\\mpl-data\\fonts\\ttf\\STIXSizThreeSymReg.ttf -> build\\lib.win-amd64-cpython-39\\matplotlib\\mpl-data\\fonts\\ttf\n",
      "  copying lib\\matplotlib\\mpl-data\\sample_data\\msft.csv -> build\\lib.win-amd64-cpython-39\\matplotlib\\mpl-data\\sample_data\n",
      "  copying lib\\matplotlib\\mpl-data\\fonts\\pdfcorefonts\\Helvetica.afm -> build\\lib.win-amd64-cpython-39\\matplotlib\\mpl-data\\fonts\\pdfcorefonts\n",
      "  copying lib\\matplotlib\\mpl-data\\images\\matplotlib.pdf -> build\\lib.win-amd64-cpython-39\\matplotlib\\mpl-data\\images\n",
      "  copying lib\\matplotlib\\mpl-data\\stylelib\\fast.mplstyle -> build\\lib.win-amd64-cpython-39\\matplotlib\\mpl-data\\stylelib\n",
      "  copying lib\\matplotlib\\backends\\web_backend\\jquery-ui-1.12.1\\jquery-ui.theme.css -> build\\lib.win-amd64-cpython-39\\matplotlib\\backends\\web_backend\\jquery-ui-1.12.1\n",
      "  copying lib\\matplotlib\\mpl-data\\fonts\\afm\\pplr8a.afm -> build\\lib.win-amd64-cpython-39\\matplotlib\\mpl-data\\fonts\\afm\n",
      "  copying lib\\matplotlib\\mpl-data\\images\\filesave.png -> build\\lib.win-amd64-cpython-39\\matplotlib\\mpl-data\\images\n",
      "  copying lib\\matplotlib\\mpl-data\\images\\home.svg -> build\\lib.win-amd64-cpython-39\\matplotlib\\mpl-data\\images\n",
      "  copying lib\\matplotlib\\mpl-data\\fonts\\ttf\\STIXGeneralItalic.ttf -> build\\lib.win-amd64-cpython-39\\matplotlib\\mpl-data\\fonts\\ttf\n",
      "  copying lib\\matplotlib\\mpl-data\\images\\move.svg -> build\\lib.win-amd64-cpython-39\\matplotlib\\mpl-data\\images\n",
      "  copying lib\\matplotlib\\mpl-data\\fonts\\ttf\\cmss10.ttf -> build\\lib.win-amd64-cpython-39\\matplotlib\\mpl-data\\fonts\\ttf\n",
      "  copying lib\\matplotlib\\mpl-data\\images\\forward_large.gif -> build\\lib.win-amd64-cpython-39\\matplotlib\\mpl-data\\images\n",
      "  copying lib\\matplotlib\\mpl-data\\fonts\\afm\\cmsy10.afm -> build\\lib.win-amd64-cpython-39\\matplotlib\\mpl-data\\fonts\\afm\n",
      "  copying lib\\matplotlib\\mpl-data\\fonts\\afm\\phvl8a.afm -> build\\lib.win-amd64-cpython-39\\matplotlib\\mpl-data\\fonts\\afm\n",
      "  copying lib\\matplotlib\\backends\\web_backend\\jquery-ui-1.12.1\\jquery-ui.min.js -> build\\lib.win-amd64-cpython-39\\matplotlib\\backends\\web_backend\\jquery-ui-1.12.1\n",
      "  copying lib\\matplotlib\\mpl-data\\sample_data\\s1045.ima.gz -> build\\lib.win-amd64-cpython-39\\matplotlib\\mpl-data\\sample_data\n",
      "  copying lib\\matplotlib\\mpl-data\\images\\home_large.png -> build\\lib.win-amd64-cpython-39\\matplotlib\\mpl-data\\images\n",
      "  copying lib\\matplotlib\\mpl-data\\fonts\\ttf\\DejaVuSerif-Italic.ttf -> build\\lib.win-amd64-cpython-39\\matplotlib\\mpl-data\\fonts\\ttf\n",
      "  copying lib\\matplotlib\\mpl-data\\fonts\\afm\\putri8a.afm -> build\\lib.win-amd64-cpython-39\\matplotlib\\mpl-data\\fonts\\afm\n",
      "  copying lib\\matplotlib\\mpl-data\\stylelib\\_classic_test.mplstyle -> build\\lib.win-amd64-cpython-39\\matplotlib\\mpl-data\\stylelib\n",
      "  copying lib\\matplotlib\\mpl-data\\images\\zoom_to_rect_large.gif -> build\\lib.win-amd64-cpython-39\\matplotlib\\mpl-data\\images\n",
      "  copying lib\\matplotlib\\mpl-data\\stylelib\\seaborn-deep.mplstyle -> build\\lib.win-amd64-cpython-39\\matplotlib\\mpl-data\\stylelib\n",
      "  copying lib\\matplotlib\\mpl-data\\fonts\\afm\\pncri8a.afm -> build\\lib.win-amd64-cpython-39\\matplotlib\\mpl-data\\fonts\\afm\n",
      "  copying lib\\matplotlib\\mpl-data\\fonts\\ttf\\DejaVuSans-Bold.ttf -> build\\lib.win-amd64-cpython-39\\matplotlib\\mpl-data\\fonts\\ttf\n",
      "  copying lib\\matplotlib\\mpl-data\\images\\help_large.png -> build\\lib.win-amd64-cpython-39\\matplotlib\\mpl-data\\images\n",
      "  copying lib\\matplotlib\\mpl-data\\fonts\\afm\\pbkl8a.afm -> build\\lib.win-amd64-cpython-39\\matplotlib\\mpl-data\\fonts\\afm\n",
      "  copying lib\\matplotlib\\backends\\web_backend\\css\\boilerplate.css -> build\\lib.win-amd64-cpython-39\\matplotlib\\backends\\web_backend\\css\n",
      "  copying lib\\matplotlib\\mpl-data\\fonts\\afm\\pzdr.afm -> build\\lib.win-amd64-cpython-39\\matplotlib\\mpl-data\\fonts\\afm\n",
      "  copying lib\\matplotlib\\mpl-data\\fonts\\ttf\\cmr10.ttf -> build\\lib.win-amd64-cpython-39\\matplotlib\\mpl-data\\fonts\\ttf\n",
      "  copying lib\\matplotlib\\mpl-data\\fonts\\afm\\pbkd8a.afm -> build\\lib.win-amd64-cpython-39\\matplotlib\\mpl-data\\fonts\\afm\n",
      "  copying lib\\matplotlib\\backends\\web_backend\\jquery-ui-1.12.1\\package.json -> build\\lib.win-amd64-cpython-39\\matplotlib\\backends\\web_backend\\jquery-ui-1.12.1\n",
      "  copying lib\\matplotlib\\mpl-data\\fonts\\afm\\phvr8an.afm -> build\\lib.win-amd64-cpython-39\\matplotlib\\mpl-data\\fonts\\afm\n",
      "  copying lib\\matplotlib\\mpl-data\\sample_data\\ct.raw.gz -> build\\lib.win-amd64-cpython-39\\matplotlib\\mpl-data\\sample_data\n",
      "  copying lib\\matplotlib\\mpl-data\\fonts\\ttf\\STIXSizTwoSymBol.ttf -> build\\lib.win-amd64-cpython-39\\matplotlib\\mpl-data\\fonts\\ttf\n",
      "  copying lib\\matplotlib\\mpl-data\\fonts\\afm\\pzcmi8a.afm -> build\\lib.win-amd64-cpython-39\\matplotlib\\mpl-data\\fonts\\afm\n",
      "  copying lib\\matplotlib\\mpl-data\\images\\hand.pdf -> build\\lib.win-amd64-cpython-39\\matplotlib\\mpl-data\\images\n",
      "  copying lib\\matplotlib\\mpl-data\\fonts\\afm\\phvb8an.afm -> build\\lib.win-amd64-cpython-39\\matplotlib\\mpl-data\\fonts\\afm\n",
      "  copying lib\\matplotlib\\mpl-data\\fonts\\ttf\\DejaVuSansMono-Oblique.ttf -> build\\lib.win-amd64-cpython-39\\matplotlib\\mpl-data\\fonts\\ttf\n",
      "  copying lib\\matplotlib\\mpl-data\\images\\qt4_editor_options.png -> build\\lib.win-amd64-cpython-39\\matplotlib\\mpl-data\\images\n",
      "  copying lib\\matplotlib\\mpl-data\\fonts\\afm\\phvro8a.afm -> build\\lib.win-amd64-cpython-39\\matplotlib\\mpl-data\\fonts\\afm\n",
      "  copying lib\\matplotlib\\mpl-data\\stylelib\\seaborn-dark.mplstyle -> build\\lib.win-amd64-cpython-39\\matplotlib\\mpl-data\\stylelib\n",
      "  copying lib\\matplotlib\\mpl-data\\fonts\\ttf\\cmb10.ttf -> build\\lib.win-amd64-cpython-39\\matplotlib\\mpl-data\\fonts\\ttf\n",
      "  copying lib\\matplotlib\\mpl-data\\fonts\\ttf\\STIXSizOneSymBol.ttf -> build\\lib.win-amd64-cpython-39\\matplotlib\\mpl-data\\fonts\\ttf\n",
      "  creating build\\lib.win-amd64-cpython-39\\matplotlib\\mpl-data\\sample_data\\axes_grid\n",
      "  copying lib\\matplotlib\\mpl-data\\sample_data\\axes_grid\\bivariate_normal.npy -> build\\lib.win-amd64-cpython-39\\matplotlib\\mpl-data\\sample_data\\axes_grid\n",
      "  copying lib\\matplotlib\\mpl-data\\fonts\\afm\\phvlo8a.afm -> build\\lib.win-amd64-cpython-39\\matplotlib\\mpl-data\\fonts\\afm\n",
      "  copying lib\\matplotlib\\mpl-data\\images\\home.pdf -> build\\lib.win-amd64-cpython-39\\matplotlib\\mpl-data\\images\n",
      "  copying lib\\matplotlib\\mpl-data\\sample_data\\jacksboro_fault_dem.npz -> build\\lib.win-amd64-cpython-39\\matplotlib\\mpl-data\\sample_data\n",
      "  copying lib\\matplotlib\\backends\\web_backend\\js\\mpl.js -> build\\lib.win-amd64-cpython-39\\matplotlib\\backends\\web_backend\\js\n",
      "  copying lib\\matplotlib\\mpl-data\\images\\filesave_large.gif -> build\\lib.win-amd64-cpython-39\\matplotlib\\mpl-data\\images\n",
      "  copying lib\\matplotlib\\mpl-data\\sample_data\\logo2.png -> build\\lib.win-amd64-cpython-39\\matplotlib\\mpl-data\\sample_data\n",
      "  copying lib\\matplotlib\\mpl-data\\fonts\\afm\\pagko8a.afm -> build\\lib.win-amd64-cpython-39\\matplotlib\\mpl-data\\fonts\\afm\n",
      "  copying lib\\matplotlib\\mpl-data\\fonts\\ttf\\DejaVuSerif.ttf -> build\\lib.win-amd64-cpython-39\\matplotlib\\mpl-data\\fonts\\ttf\n",
      "  copying lib\\matplotlib\\mpl-data\\images\\hand.gif -> build\\lib.win-amd64-cpython-39\\matplotlib\\mpl-data\\images\n",
      "  copying lib\\matplotlib\\backends\\web_backend\\jquery-ui-1.12.1\\AUTHORS.txt -> build\\lib.win-amd64-cpython-39\\matplotlib\\backends\\web_backend\\jquery-ui-1.12.1\n",
      "  copying lib\\matplotlib\\mpl-data\\fonts\\pdfcorefonts\\Helvetica-Bold.afm -> build\\lib.win-amd64-cpython-39\\matplotlib\\mpl-data\\fonts\\pdfcorefonts\n",
      "  copying lib\\matplotlib\\mpl-data\\images\\zoom_to_rect.png -> build\\lib.win-amd64-cpython-39\\matplotlib\\mpl-data\\images\n",
      "  copying lib\\matplotlib\\mpl-data\\images\\forward.gif -> build\\lib.win-amd64-cpython-39\\matplotlib\\mpl-data\\images\n",
      "  copying lib\\matplotlib\\mpl-data\\fonts\\ttf\\DejaVuSansMono-Bold.ttf -> build\\lib.win-amd64-cpython-39\\matplotlib\\mpl-data\\fonts\\ttf\n",
      "  copying lib\\matplotlib\\mpl-data\\fonts\\ttf\\STIXNonUni.ttf -> build\\lib.win-amd64-cpython-39\\matplotlib\\mpl-data\\fonts\\ttf\n",
      "  copying lib\\matplotlib\\mpl-data\\sample_data\\aapl.npz -> build\\lib.win-amd64-cpython-39\\matplotlib\\mpl-data\\sample_data\n",
      "  copying lib\\matplotlib\\mpl-data\\fonts\\ttf\\STIXSizFiveSymReg.ttf -> build\\lib.win-amd64-cpython-39\\matplotlib\\mpl-data\\fonts\\ttf\n",
      "  copying lib\\matplotlib\\mpl-data\\fonts\\ttf\\DejaVuSerifDisplay.ttf -> build\\lib.win-amd64-cpython-39\\matplotlib\\mpl-data\\fonts\\ttf\n",
      "  copying lib\\matplotlib\\backends\\web_backend\\jquery-ui-1.12.1\\jquery-ui.structure.min.css -> build\\lib.win-amd64-cpython-39\\matplotlib\\backends\\web_backend\\jquery-ui-1.12.1\n",
      "  copying lib\\matplotlib\\mpl-data\\sample_data\\topobathy.npz -> build\\lib.win-amd64-cpython-39\\matplotlib\\mpl-data\\sample_data\n",
      "  copying lib\\matplotlib\\mpl-data\\images\\back_large.gif -> build\\lib.win-amd64-cpython-39\\matplotlib\\mpl-data\\images\n",
      "  creating build\\lib.win-amd64-cpython-39\\matplotlib\\backends\\web_backend\\jquery-ui-1.12.1\\external\n",
      "  creating build\\lib.win-amd64-cpython-39\\matplotlib\\backends\\web_backend\\jquery-ui-1.12.1\\external\\jquery\n",
      "  copying lib\\matplotlib\\backends\\web_backend\\jquery-ui-1.12.1\\external\\jquery\\jquery.js -> build\\lib.win-amd64-cpython-39\\matplotlib\\backends\\web_backend\\jquery-ui-1.12.1\\external\\jquery\n",
      "  copying lib\\matplotlib\\backends\\web_backend\\jquery-ui-1.12.1\\index.html -> build\\lib.win-amd64-cpython-39\\matplotlib\\backends\\web_backend\\jquery-ui-1.12.1\n",
      "  copying lib\\matplotlib\\backends\\web_backend\\jquery-ui-1.12.1\\jquery-ui.min.css -> build\\lib.win-amd64-cpython-39\\matplotlib\\backends\\web_backend\\jquery-ui-1.12.1\n",
      "  copying lib\\matplotlib\\mpl-data\\images\\hand_large.gif -> build\\lib.win-amd64-cpython-39\\matplotlib\\mpl-data\\images\n",
      "  copying lib\\matplotlib\\mpl-data\\images\\help.png -> build\\lib.win-amd64-cpython-39\\matplotlib\\mpl-data\\images\n",
      "  copying lib\\matplotlib\\backends\\web_backend\\jquery\\js\\jquery.min.js -> build\\lib.win-amd64-cpython-39\\matplotlib\\backends\\web_backend\\jquery\\js\n",
      "  copying lib\\matplotlib\\mpl-data\\fonts\\ttf\\cmtt10.ttf -> build\\lib.win-amd64-cpython-39\\matplotlib\\mpl-data\\fonts\\ttf\n",
      "  copying lib\\matplotlib\\mpl-data\\images\\forward_large.png -> build\\lib.win-amd64-cpython-39\\matplotlib\\mpl-data\\images\n",
      "  copying lib\\matplotlib\\mpl-data\\images\\matplotlib.svg -> build\\lib.win-amd64-cpython-39\\matplotlib\\mpl-data\\images\n",
      "  copying lib\\matplotlib\\mpl-data\\sample_data\\data_x_x2_x3.csv -> build\\lib.win-amd64-cpython-39\\matplotlib\\mpl-data\\sample_data\n",
      "  copying lib\\matplotlib\\mpl-data\\images\\back.svg -> build\\lib.win-amd64-cpython-39\\matplotlib\\mpl-data\\images\n",
      "  copying lib\\matplotlib\\backends\\web_backend\\single_figure.html -> build\\lib.win-amd64-cpython-39\\matplotlib\\backends\\web_backend\n",
      "  copying lib\\matplotlib\\mpl-data\\fonts\\pdfcorefonts\\Helvetica-Oblique.afm -> build\\lib.win-amd64-cpython-39\\matplotlib\\mpl-data\\fonts\\pdfcorefonts\n",
      "  copying lib\\matplotlib\\mpl-data\\sample_data\\membrane.dat -> build\\lib.win-amd64-cpython-39\\matplotlib\\mpl-data\\sample_data\n",
      "  copying lib\\matplotlib\\mpl-data\\fonts\\afm\\pcrbo8a.afm -> build\\lib.win-amd64-cpython-39\\matplotlib\\mpl-data\\fonts\\afm\n",
      "  copying lib\\matplotlib\\mpl-data\\images\\help.svg -> build\\lib.win-amd64-cpython-39\\matplotlib\\mpl-data\\images\n",
      "  UPDATING build\\lib.win-amd64-cpython-39\\matplotlib\\_version.py\n",
      "  set build\\lib.win-amd64-cpython-39\\matplotlib\\_version.py to '3.1.3'\n",
      "  running build_ext\n",
      "  building 'matplotlib.ft2font' extension\n",
      "  error: Microsoft Visual C++ 14.0 or greater is required. Get it with \"Microsoft C++ Build Tools\": https://visualstudio.microsoft.com/visual-cpp-build-tools/\n",
      "  [end of output]\n",
      "  \n",
      "  note: This error originates from a subprocess, and is likely not a problem with pip.\n",
      "  ERROR: Failed building wheel for matplotlib\n",
      "ERROR: Could not build wheels for matplotlib, which is required to install pyproject.toml-based projects\n"
     ]
    }
   ],
   "source": [
    "pip install matplotlib==3.1.3"
   ]
  },
  {
   "cell_type": "code",
   "execution_count": 15,
   "id": "a850c821",
   "metadata": {
    "ExecuteTime": {
     "end_time": "2023-07-16T17:07:43.570487Z",
     "start_time": "2023-07-16T17:07:41.989058Z"
    }
   },
   "outputs": [
    {
     "data": {
      "image/png": "[encoded data removed]",
      "text/plain": [
       "<Figure size 1008x3600 with 9 Axes>"
      ]
     },
     "metadata": {
      "needs_background": "light"
     },
     "output_type": "display_data"
    }
   ],
   "source": [
    "# for numerical_features -- histogram\n",
    "fig, axes=plt.subplots(len(numeric_features),1,figsize=(14,50))\n",
    "\n",
    "for i in range (0, len(numeric_features)):\n",
    "    sns.histplot(data[numeric_features[i]],ax=axes[i])"
   ]
  },
  {
   "cell_type": "code",
   "execution_count": 16,
   "id": "dbc3528b",
   "metadata": {
    "ExecuteTime": {
     "end_time": "2023-07-16T17:07:51.458384Z",
     "start_time": "2023-07-16T17:07:51.072857Z"
    }
   },
   "outputs": [
    {
     "name": "stderr",
     "output_type": "stream",
     "text": [
      "C:\\Users\\91739\\anaconda3\\lib\\site-packages\\seaborn\\_decorators.py:36: FutureWarning: Pass the following variable as a keyword arg: x. From version 0.12, the only valid positional argument will be `data`, and passing other arguments without an explicit keyword will result in an error or misinterpretation.\n",
      "  warnings.warn(\n",
      "C:\\Users\\91739\\anaconda3\\lib\\site-packages\\seaborn\\_decorators.py:36: FutureWarning: Pass the following variable as a keyword arg: x. From version 0.12, the only valid positional argument will be `data`, and passing other arguments without an explicit keyword will result in an error or misinterpretation.\n",
      "  warnings.warn(\n",
      "C:\\Users\\91739\\anaconda3\\lib\\site-packages\\seaborn\\_decorators.py:36: FutureWarning: Pass the following variable as a keyword arg: x. From version 0.12, the only valid positional argument will be `data`, and passing other arguments without an explicit keyword will result in an error or misinterpretation.\n",
      "  warnings.warn(\n",
      "C:\\Users\\91739\\anaconda3\\lib\\site-packages\\seaborn\\_decorators.py:36: FutureWarning: Pass the following variable as a keyword arg: x. From version 0.12, the only valid positional argument will be `data`, and passing other arguments without an explicit keyword will result in an error or misinterpretation.\n",
      "  warnings.warn(\n",
      "C:\\Users\\91739\\anaconda3\\lib\\site-packages\\seaborn\\_decorators.py:36: FutureWarning: Pass the following variable as a keyword arg: x. From version 0.12, the only valid positional argument will be `data`, and passing other arguments without an explicit keyword will result in an error or misinterpretation.\n",
      "  warnings.warn(\n",
      "C:\\Users\\91739\\anaconda3\\lib\\site-packages\\seaborn\\_decorators.py:36: FutureWarning: Pass the following variable as a keyword arg: x. From version 0.12, the only valid positional argument will be `data`, and passing other arguments without an explicit keyword will result in an error or misinterpretation.\n",
      "  warnings.warn(\n",
      "C:\\Users\\91739\\anaconda3\\lib\\site-packages\\seaborn\\_decorators.py:36: FutureWarning: Pass the following variable as a keyword arg: x. From version 0.12, the only valid positional argument will be `data`, and passing other arguments without an explicit keyword will result in an error or misinterpretation.\n",
      "  warnings.warn(\n",
      "C:\\Users\\91739\\anaconda3\\lib\\site-packages\\seaborn\\_decorators.py:36: FutureWarning: Pass the following variable as a keyword arg: x. From version 0.12, the only valid positional argument will be `data`, and passing other arguments without an explicit keyword will result in an error or misinterpretation.\n",
      "  warnings.warn(\n",
      "C:\\Users\\91739\\anaconda3\\lib\\site-packages\\seaborn\\_decorators.py:36: FutureWarning: Pass the following variable as a keyword arg: x. From version 0.12, the only valid positional argument will be `data`, and passing other arguments without an explicit keyword will result in an error or misinterpretation.\n",
      "  warnings.warn(\n"
     ]
    },
    {
     "data": {
      "image/png": "[encoded data removed]",
      "text/plain": [
       "<Figure size 1008x1800 with 9 Axes>"
      ]
     },
     "metadata": {
      "needs_background": "light"
     },
     "output_type": "display_data"
    }
   ],
   "source": [
    "\n",
    "# for outlier detection-- boxplot\n",
    "fig, axes=plt.subplots(len(numeric_features),1,figsize=(14,25))\n",
    "\n",
    "for i in range (0, len(numeric_features)):\n",
    "    sns.boxplot(data[numeric_features[i]],ax=axes[i])"
   ]
  },
  {
   "cell_type": "code",
   "execution_count": 18,
   "id": "768c2246",
   "metadata": {
    "ExecuteTime": {
     "end_time": "2023-07-16T17:08:27.543113Z",
     "start_time": "2023-07-16T17:08:27.409492Z"
    }
   },
   "outputs": [
    {
     "data": {
      "text/plain": [
       "<AxesSubplot:>"
      ]
     },
     "execution_count": 18,
     "metadata": {},
     "output_type": "execute_result"
    },
    {
     "data": {
      "image/png": "[encoded data removed]",
      "text/plain": [
       "<Figure size 1008x432 with 1 Axes>"
      ]
     },
     "metadata": {
      "needs_background": "light"
     },
     "output_type": "display_data"
    }
   ],
   "source": [
    "#univariate analysis\n",
    "df = pd.DataFrame()\n",
    "\n",
    "df['small'] = raw_data[raw_data['size_category'] == 'small']['month'].value_counts()\n",
    "df['large'] = raw_data[raw_data['size_category'] == 'large']['month'].value_counts()\n",
    "    \n",
    "df.plot.bar(figsize=(14,6))"
   ]
  },
  {
   "cell_type": "markdown",
   "id": "993f4bfa",
   "metadata": {},
   "source": [
    "Data Pre-Processing"
   ]
  },
  {
   "cell_type": "code",
   "execution_count": 19,
   "id": "b603ba64",
   "metadata": {
    "ExecuteTime": {
     "end_time": "2023-07-16T17:08:45.452518Z",
     "start_time": "2023-07-16T17:08:45.425064Z"
    }
   },
   "outputs": [
    {
     "name": "stdout",
     "output_type": "stream",
     "text": [
      "Shape of X_train:  (361, 28)\n",
      "Shape of X_test:  (156, 28)\n",
      "Shape of y_train:  (361,)\n",
      "Shape of y_test (156,)\n"
     ]
    },
    {
     "name": "stderr",
     "output_type": "stream",
     "text": [
      "C:\\Users\\91739\\anaconda3\\lib\\site-packages\\sklearn\\preprocessing\\_label.py:115: DataConversionWarning: A column-vector y was passed when a 1d array was expected. Please change the shape of y to (n_samples, ), for example using ravel().\n",
      "  y = column_or_1d(y, warn=True)\n"
     ]
    }
   ],
   "source": [
    "x = data.copy()\n",
    "x.drop('size_category',axis=1, inplace =True)\n",
    "\n",
    "y = data[['size_category']]\n",
    "# encoding output \n",
    "le = LabelEncoder()\n",
    "y = le.fit_transform(y) \n",
    "\n",
    "# small : 1, large: 0 \n",
    "#inputs are already encoded, just need to drop month and day columns\n",
    "x.drop(['month' , 'day'] , axis=1, inplace=True)  \n",
    "x_train,x_test,y_train,y_test = train_test_split(x,y,test_size=0.3,random_state=9) \n",
    "print(\"Shape of X_train: \",x_train.shape)\n",
    "print(\"Shape of X_test: \", x_test.shape)\n",
    "print(\"Shape of y_train: \",y_train.shape)\n",
    "print(\"Shape of y_test\",y_test.shape) "
   ]
  },
  {
   "cell_type": "markdown",
   "id": "54fcd4a9",
   "metadata": {},
   "source": [
    "Building Model for ANN"
   ]
  },
  {
   "cell_type": "code",
   "execution_count": 20,
   "id": "2c4f7315",
   "metadata": {
    "ExecuteTime": {
     "end_time": "2023-07-16T17:09:18.048056Z",
     "start_time": "2023-07-16T17:09:17.829788Z"
    }
   },
   "outputs": [],
   "source": [
    "model = Sequential()\n",
    "model.add(Dense(32,input_dim=28,activation='relu'))\n",
    "model.add(Dense(64,activation='relu'))\n",
    "model.add(Dense(96,activation=\"relu\"))\n",
    "model.add(Dense(32,activation=\"relu\"))\n",
    "model.add(Dense(64,activation=\"relu\"))\n",
    "model.add(Dense(96,activation=\"relu\"))\n",
    "model.add(Dense(32,activation=\"relu\"))\n",
    "model.add(Dense(64,activation=\"relu\"))\n",
    "model.add(Dense(96,activation=\"relu\"))\n",
    "model.add(Dense(1,activation=\"sigmoid\")) "
   ]
  },
  {
   "cell_type": "code",
   "execution_count": 21,
   "id": "cc430980",
   "metadata": {
    "ExecuteTime": {
     "end_time": "2023-07-16T17:09:31.638718Z",
     "start_time": "2023-07-16T17:09:23.149993Z"
    }
   },
   "outputs": [
    {
     "name": "stdout",
     "output_type": "stream",
     "text": [
      "Epoch 1/100\n",
      "Epoch 2/100\n",
      "Epoch 3/100\n",
      "Epoch 4/100\n",
      "Epoch 5/100\n",
      "Epoch 6/100\n",
      "Epoch 7/100\n",
      "Epoch 8/100\n",
      "Epoch 9/100\n",
      "Epoch 10/100\n",
      "Epoch 11/100\n",
      "Epoch 12/100\n",
      "Epoch 13/100\n",
      "Epoch 14/100\n",
      "Epoch 15/100\n",
      "Epoch 16/100\n",
      "Epoch 17/100\n",
      "Epoch 18/100\n",
      "Epoch 19/100\n",
      "Epoch 20/100\n",
      "Epoch 21/100\n",
      "Epoch 22/100\n",
      "Epoch 23/100\n",
      "Epoch 24/100\n",
      "Epoch 25/100\n",
      "Epoch 26/100\n",
      "Epoch 27/100\n",
      "Epoch 28/100\n",
      "Epoch 29/100\n",
      "Epoch 30/100\n",
      "Epoch 31/100\n",
      "Epoch 32/100\n",
      "Epoch 33/100\n",
      "Epoch 34/100\n",
      "Epoch 35/100\n",
      "Epoch 36/100\n",
      "Epoch 37/100\n",
      "Epoch 38/100\n",
      "Epoch 39/100\n",
      "Epoch 40/100\n",
      "Epoch 41/100\n",
      "Epoch 42/100\n",
      "Epoch 43/100\n",
      "Epoch 44/100\n",
      "Epoch 45/100\n",
      "Epoch 46/100\n",
      "Epoch 47/100\n",
      "Epoch 48/100\n",
      "Epoch 49/100\n",
      "Epoch 50/100\n",
      "Epoch 51/100\n",
      "Epoch 52/100\n",
      "Epoch 53/100\n",
      "Epoch 54/100\n",
      "Epoch 55/100\n",
      "Epoch 56/100\n",
      "Epoch 57/100\n",
      "Epoch 58/100\n",
      "Epoch 59/100\n",
      "Epoch 60/100\n",
      "Epoch 61/100\n",
      "Epoch 62/100\n",
      "Epoch 63/100\n",
      "Epoch 64/100\n",
      "Epoch 65/100\n",
      "Epoch 66/100\n",
      "Epoch 67/100\n",
      "Epoch 68/100\n",
      "Epoch 69/100\n",
      "Epoch 70/100\n",
      "Epoch 71/100\n",
      "Epoch 72/100\n",
      "Epoch 73/100\n",
      "Epoch 74/100\n",
      "Epoch 75/100\n",
      "Epoch 76/100\n",
      "Epoch 77/100\n",
      "Epoch 78/100\n",
      "Epoch 79/100\n",
      "Epoch 80/100\n",
      "Epoch 81/100\n",
      "Epoch 82/100\n",
      "Epoch 83/100\n",
      "Epoch 84/100\n",
      "Epoch 85/100\n",
      "Epoch 86/100\n",
      "Epoch 87/100\n",
      "Epoch 88/100\n",
      "Epoch 89/100\n",
      "Epoch 90/100\n",
      "Epoch 91/100\n",
      "Epoch 92/100\n",
      "Epoch 93/100\n",
      "Epoch 94/100\n",
      "Epoch 95/100\n",
      "Epoch 96/100\n",
      "Epoch 97/100\n",
      "Epoch 98/100\n",
      "Epoch 99/100\n",
      "Epoch 100/100\n"
     ]
    },
    {
     "data": {
      "text/plain": [
       "<keras.src.callbacks.History at 0x20b88d4ba60>"
      ]
     },
     "execution_count": 21,
     "metadata": {},
     "output_type": "execute_result"
    }
   ],
   "source": [
    "adam=Adam(learning_rate=0.001)\n",
    "\n",
    "model.compile(loss='binary_crossentropy',optimizer = adam,metrics=[\"accuracy\"])\n",
    "model.fit(x_train, y_train, batch_size=20, validation_split=0.3, epochs = 100, verbose=-1)"
   ]
  },
  {
   "cell_type": "code",
   "execution_count": 22,
   "id": "7105783e",
   "metadata": {
    "ExecuteTime": {
     "end_time": "2023-07-16T17:09:35.092396Z",
     "start_time": "2023-07-16T17:09:34.917338Z"
    }
   },
   "outputs": [
    {
     "name": "stdout",
     "output_type": "stream",
     "text": [
      "5/5 [==============================] - 0s 1ms/step\n"
     ]
    }
   ],
   "source": [
    "pred = model.predict(x_test) "
   ]
  },
  {
   "cell_type": "code",
   "execution_count": 23,
   "id": "e67aaad3",
   "metadata": {
    "ExecuteTime": {
     "end_time": "2023-07-16T17:09:46.227841Z",
     "start_time": "2023-07-16T17:09:46.220651Z"
    }
   },
   "outputs": [
    {
     "data": {
      "text/plain": [
       "array([[9.9008065e-01],\n",
       "       [3.5745150e-04],\n",
       "       [9.9482054e-01],\n",
       "       [9.9784362e-01],\n",
       "       [8.2438781e-29]], dtype=float32)"
      ]
     },
     "execution_count": 23,
     "metadata": {},
     "output_type": "execute_result"
    }
   ],
   "source": [
    "pred[:5] # model predicted output in the form of probability"
   ]
  },
  {
   "cell_type": "code",
   "execution_count": 24,
   "id": "f05d73d7",
   "metadata": {
    "ExecuteTime": {
     "end_time": "2023-07-16T17:09:51.618234Z",
     "start_time": "2023-07-16T17:09:51.609023Z"
    }
   },
   "outputs": [],
   "source": [
    "predicted = []\n",
    "for i in range(0, len(pred)):\n",
    "    if pred[i]<0.5: #converting prob into 1 or 0\n",
    "        predicted.append(0)\n",
    "    else:\n",
    "        predicted.append(1)  "
   ]
  },
  {
   "cell_type": "code",
   "execution_count": 25,
   "id": "e5eeec13",
   "metadata": {
    "ExecuteTime": {
     "end_time": "2023-07-16T17:09:57.241906Z",
     "start_time": "2023-07-16T17:09:57.225293Z"
    }
   },
   "outputs": [
    {
     "name": "stdout",
     "output_type": "stream",
     "text": [
      "actual y is : [1 0 1 1 0] \n",
      " predicted y is: [1, 0, 1, 1, 0]\n"
     ]
    }
   ],
   "source": [
    "print('actual y is :', y_test[:5] ,'\\n', 'predicted y is:', predicted[:5]) "
   ]
  },
  {
   "cell_type": "code",
   "execution_count": 26,
   "id": "3fdad008",
   "metadata": {
    "ExecuteTime": {
     "end_time": "2023-07-16T17:10:02.814072Z",
     "start_time": "2023-07-16T17:10:02.797070Z"
    }
   },
   "outputs": [
    {
     "name": "stdout",
     "output_type": "stream",
     "text": [
      "Accuracy of model is: 0.9871794871794872\n"
     ]
    }
   ],
   "source": [
    "from sklearn.metrics import accuracy_score \n",
    "\n",
    "accuracy = accuracy_score(y_test, predicted)\n",
    "print('Accuracy of model is:', accuracy) "
   ]
  },
  {
   "cell_type": "code",
   "execution_count": 27,
   "id": "359a3cc4",
   "metadata": {
    "ExecuteTime": {
     "end_time": "2023-07-16T17:10:09.701657Z",
     "start_time": "2023-07-16T17:10:09.685551Z"
    }
   },
   "outputs": [
    {
     "name": "stdout",
     "output_type": "stream",
     "text": [
      "              precision    recall  f1-score   support\n",
      "\n",
      "           0       0.98      0.98      0.98        45\n",
      "           1       0.99      0.99      0.99       111\n",
      "\n",
      "    accuracy                           0.99       156\n",
      "   macro avg       0.98      0.98      0.98       156\n",
      "weighted avg       0.99      0.99      0.99       156\n",
      "\n"
     ]
    }
   ],
   "source": [
    "from sklearn.metrics import confusion_matrix , classification_report\n",
    "print(classification_report(y_test, predicted))"
   ]
  },
  {
   "cell_type": "code",
   "execution_count": 28,
   "id": "5b795c67",
   "metadata": {
    "ExecuteTime": {
     "end_time": "2023-07-16T17:10:15.476929Z",
     "start_time": "2023-07-16T17:10:15.370245Z"
    }
   },
   "outputs": [
    {
     "data": {
      "text/plain": [
       "<AxesSubplot:>"
      ]
     },
     "execution_count": 28,
     "metadata": {},
     "output_type": "execute_result"
    },
    {
     "data": {
      "image/png": "[encoded data removed]",
      "text/plain": [
       "<Figure size 432x288 with 2 Axes>"
      ]
     },
     "metadata": {
      "needs_background": "light"
     },
     "output_type": "display_data"
    }
   ],
   "source": [
    "sns.heatmap(confusion_matrix(y_test, predicted), annot=True, fmt='d')"
   ]
  }
 ],
 "metadata": {
  "kernelspec": {
   "display_name": "Python 3 (ipykernel)",
   "language": "python",
   "name": "python3"
  },
  "language_info": {
   "codemirror_mode": {
    "name": "ipython",
    "version": 3
   },
   "file_extension": ".py",
   "mimetype": "text/x-python",
   "name": "python",
   "nbconvert_exporter": "python",
   "pygments_lexer": "ipython3",
   "version": "3.9.12"
  }
 },
 "nbformat": 4,
 "nbformat_minor": 5
}
